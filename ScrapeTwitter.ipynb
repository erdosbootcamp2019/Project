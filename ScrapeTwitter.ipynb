{
 "cells": [
  {
   "cell_type": "code",
   "execution_count": 73,
   "metadata": {},
   "outputs": [],
   "source": [
    "import tweepy \n",
    "import csv\n",
    "import json\n",
    "import re\n",
    "\n",
    "#load twitter credentials from file \n",
    "with open('twitter_credentials.json') as cred_data:\n",
    "    info = json.load(cred_data)\n",
    "    consumer_key = info['CONSUMER_KEY']\n",
    "    consumer_secret = info['CONSUMER_SECRET']\n",
    "    access_key = info['ACCESS_KEY']\n",
    "    access_secret = info['ACCESS_SECRET']\n",
    "\n",
    "#save authentication info \n",
    "auth = tweepy.OAuthHandler(consumer_key, consumer_secret)\n",
    "auth.set_access_token(access_key, access_secret)\n",
    "api = tweepy.API(auth)"
   ]
  },
  {
   "cell_type": "code",
   "execution_count": 74,
   "metadata": {},
   "outputs": [],
   "source": [
    "#function to clean up the text of tweet \n",
    "def clean_tweet(tweet): \n",
    "    return ' '.join(re.sub(\"(@[A-Za-z0-9]+)|([^0-9A-Za-z \\t]) (\\w+:\\/\\/\\S+)\", \" \", tweet).split())"
   ]
  },
  {
   "cell_type": "code",
   "execution_count": 75,
   "metadata": {},
   "outputs": [],
   "source": [
    "#simpler function to get tweets, doesnt work? \n",
    "def get_tweets_simple(query, max_tweets):\n",
    "    searched_tweets = [status for status in tweepy.Cursor(api.search, q=query).items(max_tweets)]\n",
    "    tweets = []\n",
    "    for tweet in searched_tweets:\n",
    "        # empty dictionary to store required params of a tweet \n",
    "        parsed_tweet = {}\n",
    "        # saving text of tweet \n",
    "        parsed_tweet['text'] = clean_tweet(tweet.text)\n",
    "        tweets.append(parsed_tweet)"
   ]
  },
  {
   "cell_type": "code",
   "execution_count": 76,
   "metadata": {},
   "outputs": [],
   "source": [
    "#more complicated function to download tweets for given query\n",
    "def get_tweets(query, max_tweets):\n",
    "    searched_tweets = []\n",
    "    last_id = -1\n",
    "    while len(searched_tweets) < max_tweets:\n",
    "        count = max_tweets - len(searched_tweets)\n",
    "        try:\n",
    "            new_tweets = api.search(q = query, count = count, max_id = str(last_id - 1))\n",
    "            if not new_tweets:\n",
    "                break\n",
    "            searched_tweets.extend(new_tweets)\n",
    "            last_id = new_tweets[-1].id\n",
    "        except tweepy.TweepError as e:\n",
    "        # depending on TweepError.code, one may want to retry or wait\n",
    "        # to keep things simple, we will give up on an error\n",
    "            break\n",
    "            \n",
    "    tweets = []\n",
    "    for tweet in searched_tweets:\n",
    "        # empty dictionary to store required params of a tweet \n",
    "        parsed_tweet = {}\n",
    "        # saving text of tweet \n",
    "        parsed_tweet['text'] = clean_tweet(tweet.text)\n",
    "        tweets.append(parsed_tweet)\n",
    "            \n",
    "    return tweets"
   ]
  },
  {
   "cell_type": "code",
   "execution_count": 77,
   "metadata": {},
   "outputs": [],
   "source": [
    "#return all tweets from given screenname\n",
    "def get_tweets_user(screen_name, max_tweets):\n",
    "    searched_tweets = []\n",
    "    last_id = -1\n",
    "    while len(searched_tweets) < max_tweets:\n",
    "        count = max_tweets - len(searched_tweets)\n",
    "        try:\n",
    "            #new_tweets = api.user_timeline(id = screenname, count = count, max_id = str(last_id - 1))\n",
    "            new_tweets = api.user_timeline(screen_name = screen_name, count = max_tweets, include_rts = True)\n",
    "            if not new_tweets:\n",
    "                break\n",
    "            searched_tweets.extend(new_tweets)\n",
    "            last_id = new_tweets[-1].id\n",
    "        except tweepy.TweepError as e:\n",
    "        # depending on TweepError.code, one may want to retry or wait\n",
    "        # to keep things simple, we will give up on an error\n",
    "            break\n",
    "            \n",
    "    tweets = []\n",
    "    for tweet in searched_tweets:\n",
    "        # empty dictionary to store required params of a tweet \n",
    "        parsed_tweet = {}\n",
    "        # saving text of tweet \n",
    "        parsed_tweet['text'] = clean_tweet(tweet.text)\n",
    "        tweets.append(parsed_tweet)\n",
    "            \n",
    "    return tweets"
   ]
  },
  {
   "cell_type": "code",
   "execution_count": 78,
   "metadata": {},
   "outputs": [],
   "source": [
    "tweets_about_donald = get_tweets('Donald Trump', 10)"
   ]
  },
  {
   "cell_type": "code",
   "execution_count": 79,
   "metadata": {},
   "outputs": [
    {
     "name": "stdout",
     "output_type": "stream",
     "text": [
      "RT : Donald Trump likes to say that the military &amp; Veterans strongly support him. I have over 10K Vets following me &amp; I follow…\n",
      "RT : Donald Trump’s day so far: - Goes berserk after his former Secretary of State Rex Tillerson testifies against him - “Dum…\n",
      "RT : Rex Tillerson proves something very important about Donald Trump | Analysis by CNN's Chris Cillizza https://t.co/pBcEKtgc0…\n",
      "Donald Trump shows why he's a stunningly bad deal maker - CNN https://t.co/Ym4gTOZ91n\n",
      "A banker who prosecutors say tried to buy himself a senior post in President Donald Trump's administration by makin\n",
      "Trump Jr. on demands to testify again: 'It is all nonsense' Boohoo, Diaper Don, boo fucking hoo! ⁦\n",
      "RT : - Donald J. Trump is innocent. - There was no Russian Collusion. - There was no obstruction. - There is no evidence t…\n",
      "RT : Raise your hand if you think Donald Trump Jr. [with the right campaign] could WIN the New York City Mayoral election...…\n",
      "RT : Let. This. Sink. In. Donald Trump says America will get no infrastructure spending, or any other legislation for that mat…\n"
     ]
    }
   ],
   "source": [
    "for tweet in tweets_about_donald:\n",
    "    print(tweet['text'])"
   ]
  },
  {
   "cell_type": "code",
   "execution_count": 80,
   "metadata": {},
   "outputs": [],
   "source": [
    "baracks_tweets = get_tweets_user('BarackObama', 10)"
   ]
  },
  {
   "cell_type": "code",
   "execution_count": 81,
   "metadata": {},
   "outputs": [
    {
     "name": "stdout",
     "output_type": "stream",
     "text": [
      "Great to get out there and take a few cuts at the plate yesterday—I had a blast with all these extraordinary young\n",
      "RT : Congratulations on the inauguration of Lori Lightfoot, Treasurer Melissa Conyears-Ervin, …\n",
      "Here’s a great story: While we’ve still got a lot of work to do to make college affordable for everyone, that didn’\n",
      "Happy Mother's Day to the most caring, brilliant, funny, and grounded woman I know—a perfect role model not just fo\n",
      "As part of the , moms like Dr. Mwansa Ketty Lubeya are answering the call for change—and raising th\n",
      "RT : Congratulations, Meghan and Harry! Barack and I are so thrilled for both of you and can't wait to meet him. #RoyalBaby h…\n",
      "Happy #CollegeSigningDay, everybody! I'm proud of every student out there who's taking the next step in their educa\n",
      "Condolences to the family of John Singleton. His seminal work, Boyz n the Hood, remains one of the most searing, lo\n",
      "Congratulations to the new class of Fellows! Their work in every region of the globe is already ma\n",
      "For thirty-six years, Richard Lugar proved that pragmatism and decency work—not only in Washington but all over the\n"
     ]
    }
   ],
   "source": [
    "for tweet in baracks_tweets:\n",
    "    print(tweet['text'])"
   ]
  },
  {
   "cell_type": "code",
   "execution_count": null,
   "metadata": {},
   "outputs": [],
   "source": []
  }
 ],
 "metadata": {
  "kernelspec": {
   "display_name": "Python 3",
   "language": "python",
   "name": "python3"
  },
  "language_info": {
   "codemirror_mode": {
    "name": "ipython",
    "version": 3
   },
   "file_extension": ".py",
   "mimetype": "text/x-python",
   "name": "python",
   "nbconvert_exporter": "python",
   "pygments_lexer": "ipython3",
   "version": "3.6.8"
  }
 },
 "nbformat": 4,
 "nbformat_minor": 2
}
