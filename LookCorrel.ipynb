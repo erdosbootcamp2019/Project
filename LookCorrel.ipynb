{
 "cells": [
  {
   "cell_type": "markdown",
   "metadata": {},
   "source": [
    "## Load Twitter API and some useful functions"
   ]
  },
  {
   "cell_type": "code",
   "execution_count": null,
   "metadata": {},
   "outputs": [],
   "source": [
    "import tweepy \n",
    "import csv\n",
    "import json\n",
    "import re\n",
    "import datetime\n",
    "\n",
    "#load twitter credentials from file \n",
    "\"\"\"\n",
    "with open('twitter_credentials.json') as cred_data:\n",
    "    info = json.load(cred_data)\n",
    "    consumer_key = info['CONSUMER_KEY']\n",
    "    consumer_secret = info['CONSUMER_SECRET']\n",
    "    access_key = info['ACCESS_KEY']\n",
    "    access_secret = info['ACCESS_SECRET']\n",
    "\n",
    "#save authentication info \n",
    "auth = tweepy.OAuthHandler(consumer_key, consumer_secret)\n",
    "auth.set_access_token(access_key, access_secret)\n",
    "api = tweepy.API(auth)\n",
    "\"\"\"\n",
    "\n",
    "#load twitter credentials from file \n",
    "consumer_key = 'kAULSmYrpuA7idFEYJmmVJqsZ'\n",
    "consumer_secret = 'NGyXI8OEKbNkpCfL1jrSLWy2pCSsZPz1nCE3P6qFXzh2Nqsog2'\n",
    "access_token = '466693964-vVTSjjGghi6K4qnlReqfrUq0uPj4o4Jw8UYVGTNz'\n",
    "access_token_secret = '7gweeKfNBJzDj4hqy4OmDqufBjcI7pP2KMpb5SWYqUxu0'\n",
    "\n",
    "# Set up OAuth and integrate with API\n",
    "auth = tweepy.OAuthHandler(consumer_key, consumer_secret)\n",
    "auth.set_access_token(access_token, access_token_secret)\n",
    "api = tweepy.API(auth)"
   ]
  },
  {
   "cell_type": "code",
   "execution_count": null,
   "metadata": {},
   "outputs": [],
   "source": [
    "#function to clean up the text of tweet \n",
    "def clean_tweet(tweet): \n",
    "    return ' '.join(re.sub(\"(@[A-Za-z0-9]+)|([^0-9A-Za-z \\t]) (\\w+:\\/\\/\\S+)\", \" \", tweet).split())"
   ]
  },
  {
   "cell_type": "code",
   "execution_count": null,
   "metadata": {},
   "outputs": [],
   "source": [
    "#simpler function to get tweets, doesnt work? \n",
    "def get_tweets_simple(query, max_tweets):\n",
    "    searched_tweets = [status for status in tweepy.Cursor(api.search, q=query).items(max_tweets)]\n",
    "    tweets = []\n",
    "    for tweet in searched_tweets:\n",
    "        # empty dictionary to store required params of a tweet \n",
    "        parsed_tweet = {}\n",
    "        # saving text of tweet \n",
    "        parsed_tweet['text'] = clean_tweet(tweet.text)\n",
    "        tweets.append(parsed_tweet)"
   ]
  },
  {
   "cell_type": "code",
   "execution_count": null,
   "metadata": {},
   "outputs": [],
   "source": [
    "#more complicated function to download tweets for given query\n",
    "def get_tweets(query, max_tweets):\n",
    "    searched_tweets = []\n",
    "    last_id = -1\n",
    "    while len(searched_tweets) < max_tweets:\n",
    "        count = max_tweets - len(searched_tweets)\n",
    "        try:\n",
    "            new_tweets = api.search(q = query, count = count, max_id = str(last_id - 1))\n",
    "            if not new_tweets:\n",
    "                break\n",
    "            searched_tweets.extend(new_tweets)\n",
    "            last_id = new_tweets[-1].id\n",
    "        except tweepy.TweepError as e:\n",
    "        # depending on TweepError.code, one may want to retry or wait\n",
    "        # to keep things simple, we will give up on an error\n",
    "            break\n",
    "            \n",
    "    tweets = []\n",
    "    for tweet in searched_tweets:\n",
    "        # empty dictionary to store required params of a tweet \n",
    "        parsed_tweet = {}\n",
    "        # saving text of tweet \n",
    "        parsed_tweet['text'] = clean_tweet(tweet.text)\n",
    "        tweets.append(parsed_tweet)\n",
    "            \n",
    "    return tweets"
   ]
  },
  {
   "cell_type": "code",
   "execution_count": null,
   "metadata": {},
   "outputs": [],
   "source": [
    "#return all tweets from given screenname\n",
    "def get_tweets_user(screen_name, max_tweets, startDate, endDate):\n",
    "    searched_tweets = []\n",
    "    last_id = -1\n",
    "    while len(searched_tweets) < max_tweets:\n",
    "        count = max_tweets - len(searched_tweets)\n",
    "        try:\n",
    "            #new_tweets = api.user_timeline(id = screenname, count = count, max_id = str(last_id - 1))\n",
    "            new_tweets = api.user_timeline(screen_name = screen_name, count = max_tweets, include_rts = True)\n",
    "            if not new_tweets:\n",
    "                break\n",
    "            searched_tweets.extend(new_tweets)\n",
    "            last_id = new_tweets[-1].id\n",
    "        except tweepy.TweepError as e:\n",
    "        # depending on TweepError.code, one may want to retry or wait\n",
    "        # to keep things simple, we will give up on an error\n",
    "            break\n",
    "            \n",
    "    tweets = []\n",
    "    for tweet in searched_tweets:\n",
    "        if tweet.created_at < endDate and tweet.created_at > startDate:   \n",
    "            # empty dictionary to store required params of a tweet \n",
    "            parsed_tweet = {}\n",
    "            # saving text of tweet \n",
    "            parsed_tweet['text'] = clean_tweet(tweet.text)\n",
    "            parsed_tweet['datetime'] = tweet.created_at\n",
    "            tweets.append(parsed_tweet)\n",
    "            \n",
    "    return tweets"
   ]
  },
  {
   "cell_type": "markdown",
   "metadata": {},
   "source": [
    "## Load Quandl stock data"
   ]
  },
  {
   "cell_type": "code",
   "execution_count": 9,
   "metadata": {},
   "outputs": [
    {
     "name": "stdout",
     "output_type": "stream",
     "text": [
      "Populating the interactive namespace from numpy and matplotlib\n"
     ]
    }
   ],
   "source": [
    "import pandas as pd\n",
    "import quandl #quandl is not installed by default. You'll need to install it and get an account.\n",
    "import datetime \n",
    "import matplotlib.pyplot as plt\n",
    "import seaborn as sns\n",
    "sns.set()\n",
    "%matplotlib inline\n",
    "%pylab inline\n",
    "quandl.ApiConfig.api_key = \"cHs3hSC-ys83Msb8qXyh\"#This is Jorge's key, get yourself a new one."
   ]
  },
  {
   "cell_type": "code",
   "execution_count": 10,
   "metadata": {},
   "outputs": [],
   "source": [
    "start_date = datetime.datetime(2015,1,1) # Beginning of period \n",
    "end_date = datetime.datetime(2015,2,1) # End of period \n",
    "stock = \"AAPL\" # some stock label we are interested in\n",
    "tesla = quandl.get(\"WIKI/\" + stock, start_date=start_date, end_date=end_date) #download data with quandl"
   ]
  },
  {
   "cell_type": "code",
   "execution_count": 11,
   "metadata": {},
   "outputs": [
    {
     "data": {
      "image/png": "[encoded data removed]",
      "text/plain": [
       "<Figure size 1080x648 with 1 Axes>"
      ]
     },
     "metadata": {
      "needs_background": "light"
     },
     "output_type": "display_data"
    }
   ],
   "source": [
    "pylab.rcParams['figure.figsize'] = (15, 9)\n",
    "plt.title(stock + \" Closing Prices\")\n",
    "tesla[\"Close\"].plot() # plot daily closing prices \n",
    "plt.show()"
   ]
  },
  {
   "cell_type": "code",
   "execution_count": null,
   "metadata": {},
   "outputs": [],
   "source": [
    "tesla[\"DailyPercentDiff\"] = (tesla[\"Close\"] - tesla[\"Open\"]) / tesla[\"Open\"]\n",
    "plt.title(stock + \" Daily Percent Differences\")\n",
    "tesla[\"DailyPercentDiff\"].plot() # plot daily closing prices \n",
    "plt.show()"
   ]
  },
  {
   "cell_type": "markdown",
   "metadata": {},
   "source": [
    "## Proof of Principle : Do Barack Obama's tweets effect TSLA closing prices?"
   ]
  },
  {
   "cell_type": "code",
   "execution_count": null,
   "metadata": {},
   "outputs": [],
   "source": [
    "start_date = datetime.datetime(2015,1,1) # Beginning of period \n",
    "end_date = datetime.datetime(2016,1,1) # End of period \n",
    "stock = \"TSLA\" # some stock label we are interested in\n",
    "tesla = quandl.get(\"WIKI/\" + stock, start_date=start_date, end_date=end_date) #download data with quandl"
   ]
  },
  {
   "cell_type": "code",
   "execution_count": 12,
   "metadata": {},
   "outputs": [],
   "source": [
    "baracks_tweets = get_tweets_user('BarackObama', 1000, start_date, end_date)"
   ]
  },
  {
   "cell_type": "code",
   "execution_count": 13,
   "metadata": {},
   "outputs": [
    {
     "data": {
      "text/plain": [
       "[]"
      ]
     },
     "execution_count": 13,
     "metadata": {},
     "output_type": "execute_result"
    }
   ],
   "source": [
    "baracks_tweets"
   ]
  },
  {
   "cell_type": "code",
   "execution_count": null,
   "metadata": {},
   "outputs": [],
   "source": []
  }
 ],
 "metadata": {
  "kernelspec": {
   "display_name": "Python 3",
   "language": "python",
   "name": "python3"
  },
  "language_info": {
   "codemirror_mode": {
    "name": "ipython",
    "version": 3
   },
   "file_extension": ".py",
   "mimetype": "text/x-python",
   "name": "python",
   "nbconvert_exporter": "python",
   "pygments_lexer": "ipython3",
   "version": "3.7.0"
  }
 },
 "nbformat": 4,
 "nbformat_minor": 2
}
