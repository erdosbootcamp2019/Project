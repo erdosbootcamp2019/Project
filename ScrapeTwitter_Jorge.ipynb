{
 "cells": [
  {
   "cell_type": "code",
   "execution_count": 1,
   "metadata": {},
   "outputs": [],
   "source": [
    "import tweepy \n",
    "import csv\n",
    "import json\n",
    "import re\n",
    "from tweepy import OAuthHandler\n",
    "import datetime\n",
    "import time\n",
    "\n",
    "#load twitter credentials from file \n",
    "consumer_key = 'kAULSmYrpuA7idFEYJmmVJqsZ'\n",
    "consumer_secret = 'NGyXI8OEKbNkpCfL1jrSLWy2pCSsZPz1nCE3P6qFXzh2Nqsog2'\n",
    "access_token = '466693964-vVTSjjGghi6K4qnlReqfrUq0uPj4o4Jw8UYVGTNz'\n",
    "access_token_secret = '7gweeKfNBJzDj4hqy4OmDqufBjcI7pP2KMpb5SWYqUxu0'\n",
    "\n",
    "# Set up OAuth and integrate with API\n",
    "auth = tweepy.OAuthHandler(consumer_key, consumer_secret)\n",
    "auth.set_access_token(access_token, access_token_secret)\n",
    "api = tweepy.API(auth)"
   ]
  },
  {
   "cell_type": "code",
   "execution_count": 2,
   "metadata": {},
   "outputs": [],
   "source": [
    "def datetime_from_utc_to_local(utc_datetime):\n",
    "    now_timestamp = time.time()\n",
    "    offset = datetime.datetime.fromtimestamp(now_timestamp) - datetime.datetime.utcfromtimestamp(now_timestamp)\n",
    "    return utc_datetime + offset"
   ]
  },
  {
   "cell_type": "code",
   "execution_count": 3,
   "metadata": {},
   "outputs": [],
   "source": [
    "#function to clean up the text of tweet \n",
    "def clean_tweet(tweet): \n",
    "    return ' '.join(re.sub(\"(@[A-Za-z0-9]+)|([^0-9A-Za-z \\t]) (\\w+:\\/\\/\\S+)\", \" \", tweet).split())"
   ]
  },
  {
   "cell_type": "code",
   "execution_count": 106,
   "metadata": {},
   "outputs": [],
   "source": [
    "#simpler function to get tweets, doesnt work? \n",
    "def get_tweets_simple(query, max_tweets):\n",
    "    searched_tweets = [status for status in tweepy.Cursor(api.search, q=query).items(max_tweets)]\n",
    "    tweets = []\n",
    "    twees_date = []\n",
    "    for tweet in searched_tweets:\n",
    "        # empty dictionary to store required params of a tweet \n",
    "        parsed_tweet = {}\n",
    "        # saving text of tweet \n",
    "        #parsed_tweet['text'] = clean_tweet(tweet.text)\n",
    "        created_date_local = datetime_from_utc_to_local(tweet.created_at)\n",
    "       # tweets = created_date_local\n",
    "        parsed_tweet['date'] = created_date_local\n",
    "        #print(created_date_local)\n",
    "        #print(parsed_tweet.created_at )\n",
    "        tweets.append(parsed_tweet)\n",
    "    return tweets"
   ]
  },
  {
   "cell_type": "code",
   "execution_count": 5,
   "metadata": {},
   "outputs": [],
   "source": [
    "#more complicated function to download tweets for given query\n",
    "def get_tweets(query, max_tweets):\n",
    "    searched_tweets = []\n",
    "    last_id = -1\n",
    "    while len(searched_tweets) < max_tweets:\n",
    "        count = max_tweets - len(searched_tweets)\n",
    "        try:\n",
    "            new_tweets = api.search(q = query, count = count, max_id = str(last_id - 1))\n",
    "            if not new_tweets:\n",
    "                break\n",
    "            searched_tweets.extend(new_tweets)\n",
    "            last_id = new_tweets[-1].id\n",
    "        except tweepy.TweepError as e:\n",
    "        # depending on TweepError.code, one may want to retry or wait\n",
    "        # to keep things simple, we will give up on an error\n",
    "            break\n",
    "            \n",
    "    tweets = []\n",
    "    for tweet in searched_tweets:\n",
    "        # empty dictionary to store required params of a tweet \n",
    "        parsed_tweet = {}\n",
    "        # saving text of tweet \n",
    "        parsed_tweet['text'] = clean_tweet(tweet.text)\n",
    "        \n",
    "        tweets.append(parsed_tweet)\n",
    "            \n",
    "    return tweets"
   ]
  },
  {
   "cell_type": "code",
   "execution_count": 6,
   "metadata": {},
   "outputs": [],
   "source": [
    "#return all tweets from given screenname\n",
    "def get_tweets_user(screen_name, max_tweets):\n",
    "    searched_tweets = []\n",
    "    last_id = -1\n",
    "    while len(searched_tweets) < max_tweets:\n",
    "        count = max_tweets - len(searched_tweets)\n",
    "        try:\n",
    "            #new_tweets = api.user_timeline(id = screenname, count = count, max_id = str(last_id - 1))\n",
    "            new_tweets = api.user_timeline(screen_name = screen_name, count = max_tweets, include_rts = True)\n",
    "            if not new_tweets:\n",
    "                break\n",
    "            searched_tweets.extend(new_tweets)\n",
    "            last_id = new_tweets[-1].id\n",
    "        except tweepy.TweepError as e:\n",
    "        # depending on TweepError.code, one may want to retry or wait\n",
    "        # to keep things simple, we will give up on an error\n",
    "            break\n",
    "            \n",
    "    tweets = []\n",
    "    for tweet in searched_tweets:\n",
    "        # empty dictionary to store required params of a tweet \n",
    "        parsed_tweet = {}\n",
    "        # saving text of tweet \n",
    "        parsed_tweet['text'] = clean_tweet(tweet.text)\n",
    "        tweets.append(parsed_tweet)\n",
    "            \n",
    "    return tweets"
   ]
  },
  {
   "cell_type": "code",
   "execution_count": 134,
   "metadata": {},
   "outputs": [],
   "source": [
    "tweets_about_donald = get_tweets_simple('Game of Thrones', 100)"
   ]
  },
  {
   "cell_type": "code",
   "execution_count": 146,
   "metadata": {},
   "outputs": [],
   "source": [
    "tweet_date = []\n",
    "tweet_count_min = []\n",
    "for tweet in tweets_about_donald:\n",
    "    tweet_date.append(tweet['date'])\n",
    "    minute = tweet['date'].minute\n",
    "    while = minute \n",
    "    #while minute==minute\n",
    "    #print(tweet_date.minute)\n",
    "#print(tweets)\n",
    "#tweet_date"
   ]
  },
  {
   "cell_type": "code",
   "execution_count": 145,
   "metadata": {},
   "outputs": [
    {
     "data": {
      "image/png": "[encoded data removed]",
      "text/plain": [
       "<Figure size 432x288 with 1 Axes>"
      ]
     },
     "metadata": {
      "needs_background": "light"
     },
     "output_type": "display_data"
    }
   ],
   "source": [
    "import numpy as np\n",
    "import matplotlib.pyplot as plt\n",
    "import matplotlib.dates as mdates\n",
    "import matplotlib.cbook as cbook\n",
    "import datetime\n",
    "#print(tweet_date)\n",
    "plt.scatter(tweet_date,tweet_date);\n",
    "plt.xlim([datetime.datetime(2019, 5, 27,13,00,00), datetime.datetime(2019, 5, 27,13,10,00)]);"
   ]
  },
  {
   "cell_type": "markdown",
   "metadata": {},
   "source": []
  },
  {
   "cell_type": "code",
   "execution_count": 136,
   "metadata": {},
   "outputs": [],
   "source": [
    "baracks_tweets = get_tweets_user('toej93', 10)"
   ]
  },
  {
   "cell_type": "code",
   "execution_count": null,
   "metadata": {},
   "outputs": [],
   "source": [
    "for tweet in baracks_tweets:\n",
    "    #print(tweet['text'])\n",
    "    #created_date_local = datetime_from_utc_to_local(tweet.created_at)\n",
    "    #print(tweet[\"created_at\"])"
   ]
  },
  {
   "cell_type": "code",
   "execution_count": null,
   "metadata": {},
   "outputs": [],
   "source": []
  },
  {
   "cell_type": "code",
   "execution_count": null,
   "metadata": {},
   "outputs": [],
   "source": []
  }
 ],
 "metadata": {
  "kernelspec": {
   "display_name": "Python 3",
   "language": "python",
   "name": "python3"
  },
  "language_info": {
   "codemirror_mode": {
    "name": "ipython",
    "version": 3
   },
   "file_extension": ".py",
   "mimetype": "text/x-python",
   "name": "python",
   "nbconvert_exporter": "python",
   "pygments_lexer": "ipython3",
   "version": "3.7.0"
  }
 },
 "nbformat": 4,
 "nbformat_minor": 2
}
