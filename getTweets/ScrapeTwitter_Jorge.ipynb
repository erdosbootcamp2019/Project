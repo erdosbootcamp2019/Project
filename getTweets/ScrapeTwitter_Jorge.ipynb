{
 "cells": [
  {
   "cell_type": "code",
   "execution_count": 1,
   "metadata": {},
   "outputs": [],
   "source": [
    "import tweepy \n",
    "import csv\n",
    "import json\n",
    "import re\n",
    "from tweepy import OAuthHandler\n",
    "import datetime\n",
    "import time\n",
    "\n",
    "#load twitter credentials from file \n",
    "consumer_key = 'kAULSmYrpuA7idFEYJmmVJqsZ'\n",
    "consumer_secret = 'NGyXI8OEKbNkpCfL1jrSLWy2pCSsZPz1nCE3P6qFXzh2Nqsog2'\n",
    "access_token = '466693964-vVTSjjGghi6K4qnlReqfrUq0uPj4o4Jw8UYVGTNz'\n",
    "access_token_secret = '7gweeKfNBJzDj4hqy4OmDqufBjcI7pP2KMpb5SWYqUxu0'\n",
    "\n",
    "# Set up OAuth and integrate with API\n",
    "auth = tweepy.OAuthHandler(consumer_key, consumer_secret)\n",
    "auth.set_access_token(access_token, access_token_secret)\n",
    "api = tweepy.API(auth)"
   ]
  },
  {
   "cell_type": "code",
   "execution_count": 2,
   "metadata": {},
   "outputs": [],
   "source": [
    "def datetime_from_utc_to_local(utc_datetime):\n",
    "    now_timestamp = time.time()\n",
    "    offset = datetime.datetime.fromtimestamp(now_timestamp) - datetime.datetime.utcfromtimestamp(now_timestamp)\n",
    "    return utc_datetime + offset"
   ]
  },
  {
   "cell_type": "code",
   "execution_count": 3,
   "metadata": {},
   "outputs": [],
   "source": [
    "#function to clean up the text of tweet \n",
    "def clean_tweet(tweet): \n",
    "    return ' '.join(re.sub(\"(@[A-Za-z0-9]+)|([^0-9A-Za-z \\t]) (\\w+:\\/\\/\\S+)\", \" \", tweet).split())"
   ]
  },
  {
   "cell_type": "code",
   "execution_count": 4,
   "metadata": {},
   "outputs": [],
   "source": [
    "#simpler function to get tweets, doesnt work? \n",
    "def get_tweets_simple(query, max_tweets):\n",
    "    searched_tweets = [status for status in tweepy.Cursor(api.search, q=query).items(max_tweets)]\n",
    "    tweets = []\n",
    "    twees_date = []\n",
    "    for tweet in searched_tweets:\n",
    "        # empty dictionary to store required params of a tweet \n",
    "        parsed_tweet = {}\n",
    "        # saving text of tweet \n",
    "        #parsed_tweet['text'] = clean_tweet(tweet.text)\n",
    "        created_date_local = datetime_from_utc_to_local(tweet.created_at)\n",
    "       # tweets = created_date_local\n",
    "        parsed_tweet['date'] = created_date_local\n",
    "        #print(created_date_local)\n",
    "        #print(parsed_tweet.created_at )\n",
    "        tweets.append(parsed_tweet)\n",
    "    return tweets"
   ]
  },
  {
   "cell_type": "code",
   "execution_count": 5,
   "metadata": {},
   "outputs": [],
   "source": [
    "#more complicated function to download tweets for given query\n",
    "def get_tweets(query, max_tweets):\n",
    "    searched_tweets = []\n",
    "    last_id = -1\n",
    "    while len(searched_tweets) < max_tweets:\n",
    "        count = max_tweets - len(searched_tweets)\n",
    "        try:\n",
    "            new_tweets = api.search(q = query, count = count, max_id = str(last_id - 1))\n",
    "            if not new_tweets:\n",
    "                break\n",
    "            searched_tweets.extend(new_tweets)\n",
    "            last_id = new_tweets[-1].id\n",
    "        except tweepy.TweepError as e:\n",
    "        # depending on TweepError.code, one may want to retry or wait\n",
    "        # to keep things simple, we will give up on an error\n",
    "            break\n",
    "            \n",
    "    tweets = []\n",
    "    for tweet in searched_tweets:\n",
    "        # empty dictionary to store required params of a tweet \n",
    "        parsed_tweet = {}\n",
    "        # saving text of tweet \n",
    "        parsed_tweet['text'] = clean_tweet(tweet.text)\n",
    "        \n",
    "        tweets.append(parsed_tweet)\n",
    "            \n",
    "    return tweets"
   ]
  },
  {
   "cell_type": "code",
   "execution_count": 6,
   "metadata": {},
   "outputs": [],
   "source": [
    "#return all tweets from given screenname\n",
    "def get_tweets_user(screen_name, max_tweets, startDate, endDate):\n",
    "    searched_tweets = []\n",
    "    last_id = -1\n",
    "    while len(searched_tweets) < max_tweets:\n",
    "        count = max_tweets - len(searched_tweets)\n",
    "        try:\n",
    "            #new_tweets = api.user_timeline(id = screenname, count = count, max_id = str(last_id - 1))\n",
    "            new_tweets = api.user_timeline(screen_name = screen_name, count = max_tweets, include_rts = True)\n",
    "            if not new_tweets:\n",
    "                break\n",
    "            searched_tweets.extend(new_tweets)\n",
    "            last_id = new_tweets[-1].id\n",
    "        except tweepy.TweepError as e:\n",
    "        # depending on TweepError.code, one may want to retry or wait\n",
    "        # to keep things simple, we will give up on an error\n",
    "            break\n",
    "            \n",
    "    tweets = []\n",
    "\n",
    "    for tweet in searched_tweets:\n",
    "        if datetime_from_utc_to_local(tweet.created_at) < endDate and datetime_from_utc_to_local(tweet.created_at) > startDate:   \n",
    "            # empty dictionary to store required params of a tweet \n",
    "            # saving text of tweet \n",
    "            parsed_tweet = {}\n",
    "\n",
    "            parsed_tweet['text'] = clean_tweet(tweet.text)\n",
    "            parsed_tweet['date'] = datetime_from_utc_to_local(tweet.created_at)\n",
    "            tweets.append(parsed_tweet)\n",
    "            \n",
    "    return tweets"
   ]
  },
  {
   "cell_type": "code",
   "execution_count": 7,
   "metadata": {},
   "outputs": [],
   "source": [
    "#return all tweets from given screenname between given dates\n",
    "def get_tweets_user_dates(username, startDate, endDate):\n",
    "    tweets = []\n",
    "    tmpTweets = api.user_timeline(username)\n",
    "    for tweet in tmpTweets:\n",
    "        if tweet.created_at < endDate and tweet.created_at > startDate:\n",
    "            tweets.append(tweet)\n",
    "\n",
    "    while (tmpTweets[-1].created_at > startDate):#Avoids repeating tweet\n",
    "        #print(\"Last Tweet @\", tmpTweets[-1].created_at)\n",
    "        tmpTweets = api.user_timeline(username, max_id = tmpTweets[-1].id)\n",
    "        for tweet in tmpTweets:\n",
    "            if datetime_from_utc_to_local(tweet.created_at) < endDate and datetime_from_utc_to_local(tweet.created_at) > startDate:\n",
    "                parsed_tweet = {}\n",
    "                parsed_tweet['text'] = clean_tweet(tweet.text)\n",
    "                parsed_tweet['date'] = datetime_from_utc_to_local(tweet.created_at)\n",
    "                tweets.append(parsed_tweet)\n",
    "    return tweets"
   ]
  },
  {
   "cell_type": "code",
   "execution_count": null,
   "metadata": {},
   "outputs": [],
   "source": [
    "start_date = datetime.datetime(2018,1,10) # Beginning of period \n",
    "end_date = datetime.datetime(2018,6,16) # End of period\n",
    "baracks_tweets = get_tweets_user_dates('elonmusk', start_date, end_date)\n"
   ]
  },
  {
   "cell_type": "code",
   "execution_count": 9,
   "metadata": {},
   "outputs": [
    {
     "data": {
      "text/plain": [
       "136"
      ]
     },
     "execution_count": 9,
     "metadata": {},
     "output_type": "execute_result"
    }
   ],
   "source": [
    "len(baracks_tweets)\n",
    "#baracks_tweets"
   ]
  },
  {
   "cell_type": "code",
   "execution_count": 12,
   "metadata": {},
   "outputs": [
    {
     "data": {
      "image/png": "[encoded data removed]",
      "text/plain": [
       "<Figure size 432x288 with 1 Axes>"
      ]
     },
     "metadata": {
      "needs_background": "light"
     },
     "output_type": "display_data"
    }
   ],
   "source": [
    "import numpy as np\n",
    "tweet_date = []\n",
    "tweet_count = []#np.array(x)\n",
    "count=0\n",
    "\n",
    "for i in range(0,len(baracks_tweets)):\n",
    "    if i==0: continue\n",
    "    #print(baracks_tweets[i]['date'].day)\n",
    "    if baracks_tweets[i]['date'].day==baracks_tweets[i-1]['date'].day:\n",
    "        count+=1    #else:\n",
    "    else:\n",
    "        count+=1\n",
    "        tweet_date.append(baracks_tweets[i]['date'])\n",
    "        tweet_count.append(count)\n",
    "        count=0\n",
    "\n",
    "    #minute = tweet['date'].minute\n",
    "    #tweet_count+=1\n",
    "#print(count)   \n",
    "#print(tweet_count,tweet_date)\n",
    "#tweet_date\n",
    "plt.scatter(tweet_date,tweet_count);\n",
    "plt.title(\"Number of tweets per day\")\n",
    "plt.xlim(start_date,end_date);"
   ]
  },
  {
   "cell_type": "code",
   "execution_count": null,
   "metadata": {},
   "outputs": [],
   "source": [
    "import pandas as pd\n",
    "import quandl #quandl is not installed by default. You'll need to install it and get an account.\n",
    "import datetime \n",
    "import matplotlib.pyplot as plt\n",
    "import seaborn as sns\n",
    "sns.set()\n",
    "%matplotlib inline\n",
    "%pylab inline\n",
    "quandl.ApiConfig.api_key = \"cHs3hSC-ys83Msb8qXyh\"#This is Jorge's key, get yourself a new one.\n",
    "\n",
    "start_date = datetime.datetime(2015,1,1) # Beginning of period \n",
    "end_date = datetime.datetime(2015,2,1) # End of period \n",
    "stock = \"TSLA\" # some stock label we are interested in\n",
    "tesla = quandl.get(\"WIKI/\" + stock, start_date=start_date, end_date=end_date) #download data with quandl\n",
    "pylab.rcParams['figure.figsize'] = (15, 9)\n",
    "plt.title(stock + \" Closing Prices\")\n",
    "tesla[\"Close\"].plot() # plot daily closing prices \n",
    "plt.show()"
   ]
  },
  {
   "cell_type": "markdown",
   "metadata": {},
   "source": []
  },
  {
   "cell_type": "code",
   "execution_count": null,
   "metadata": {},
   "outputs": [],
   "source": []
  },
  {
   "cell_type": "code",
   "execution_count": null,
   "metadata": {},
   "outputs": [],
   "source": []
  },
  {
   "cell_type": "code",
   "execution_count": null,
   "metadata": {},
   "outputs": [],
   "source": []
  },
  {
   "cell_type": "code",
   "execution_count": null,
   "metadata": {},
   "outputs": [],
   "source": []
  },
  {
   "cell_type": "code",
   "execution_count": null,
   "metadata": {},
   "outputs": [],
   "source": []
  },
  {
   "cell_type": "code",
   "execution_count": null,
   "metadata": {},
   "outputs": [],
   "source": []
  }
 ],
 "metadata": {
  "kernelspec": {
   "display_name": "Python 3",
   "language": "python",
   "name": "python3"
  },
  "language_info": {
   "codemirror_mode": {
    "name": "ipython",
    "version": 3
   },
   "file_extension": ".py",
   "mimetype": "text/x-python",
   "name": "python",
   "nbconvert_exporter": "python",
   "pygments_lexer": "ipython3",
   "version": "3.7.0"
  }
 },
 "nbformat": 4,
 "nbformat_minor": 2
}
