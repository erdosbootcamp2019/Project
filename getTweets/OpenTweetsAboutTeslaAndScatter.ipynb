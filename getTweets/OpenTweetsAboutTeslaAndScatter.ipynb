{
 "cells": [
  {
   "cell_type": "code",
   "execution_count": 1,
   "metadata": {},
   "outputs": [],
   "source": [
    "import pandas as pd\n",
    "import datetime\n",
    "import matplotlib.pyplot as plt\n",
    "import random\n",
    "import numpy as np\n",
    "import pylab\n",
    "import quandl\n",
    "quandl.ApiConfig.api_key = \"32peB6ExRM7Lihbpsdsd\"\n",
    "import seaborn as sns\n",
    "sns.set()\n",
    "%matplotlib inline\n",
    "#textblob to apply sentiment analysis \n",
    "from textblob import TextBlob\n",
    "import preprocessor as p"
   ]
  },
  {
   "cell_type": "code",
   "execution_count": 7,
   "metadata": {},
   "outputs": [
    {
     "data": {
      "text/html": [
       "<div>\n",
       "<style scoped>\n",
       "    .dataframe tbody tr th:only-of-type {\n",
       "        vertical-align: middle;\n",
       "    }\n",
       "\n",
       "    .dataframe tbody tr th {\n",
       "        vertical-align: top;\n",
       "    }\n",
       "\n",
       "    .dataframe thead th {\n",
       "        text-align: right;\n",
       "    }\n",
       "</style>\n",
       "<table border=\"1\" class=\"dataframe\">\n",
       "  <thead>\n",
       "    <tr style=\"text-align: right;\">\n",
       "      <th></th>\n",
       "      <th>date</th>\n",
       "      <th>tweet</th>\n",
       "    </tr>\n",
       "  </thead>\n",
       "  <tbody>\n",
       "    <tr>\n",
       "      <th>45551</th>\n",
       "      <td>2014-12-07</td>\n",
       "      <td>The Tesla Bet is on! @Lord_Kat &amp; I, first one ...</td>\n",
       "    </tr>\n",
       "    <tr>\n",
       "      <th>45552</th>\n",
       "      <td>2014-12-07</td>\n",
       "      <td>Uber's $40 billion value is bigger than (marke...</td>\n",
       "    </tr>\n",
       "    <tr>\n",
       "      <th>45553</th>\n",
       "      <td>2014-12-07</td>\n",
       "      <td>In two decades, there will be 1 billion more c...</td>\n",
       "    </tr>\n",
       "    <tr>\n",
       "      <th>45554</th>\n",
       "      <td>2014-12-07</td>\n",
       "      <td>Tesla's CTO Wants To Take Batteries To A New D...</td>\n",
       "    </tr>\n",
       "    <tr>\n",
       "      <th>45555</th>\n",
       "      <td>2014-12-07</td>\n",
       "      <td>#Tesla #Investors Are Ignoring What #ElonMusk ...</td>\n",
       "    </tr>\n",
       "    <tr>\n",
       "      <th>45556</th>\n",
       "      <td>2014-12-07</td>\n",
       "      <td>JB Straubel is charged with taking batteries t...</td>\n",
       "    </tr>\n",
       "    <tr>\n",
       "      <th>45557</th>\n",
       "      <td>2014-12-07</td>\n",
       "      <td>Tesla's CTO Wants To Take Batteries To A New D...</td>\n",
       "    </tr>\n",
       "    <tr>\n",
       "      <th>45558</th>\n",
       "      <td>2014-12-07</td>\n",
       "      <td>Watch how to make music from a Tiny tesla coil...</td>\n",
       "    </tr>\n",
       "    <tr>\n",
       "      <th>45559</th>\n",
       "      <td>2014-12-07</td>\n",
       "      <td>Great article by @markchediak on the downstrea...</td>\n",
       "    </tr>\n",
       "    <tr>\n",
       "      <th>45560</th>\n",
       "      <td>2014-12-07</td>\n",
       "      <td>Tesla's CTO Wants To Take Batteries To A New D...</td>\n",
       "    </tr>\n",
       "  </tbody>\n",
       "</table>\n",
       "</div>"
      ],
      "text/plain": [
       "             date                                              tweet\n",
       "45551  2014-12-07  The Tesla Bet is on! @Lord_Kat & I, first one ...\n",
       "45552  2014-12-07  Uber's $40 billion value is bigger than (marke...\n",
       "45553  2014-12-07  In two decades, there will be 1 billion more c...\n",
       "45554  2014-12-07  Tesla's CTO Wants To Take Batteries To A New D...\n",
       "45555  2014-12-07  #Tesla #Investors Are Ignoring What #ElonMusk ...\n",
       "45556  2014-12-07  JB Straubel is charged with taking batteries t...\n",
       "45557  2014-12-07  Tesla's CTO Wants To Take Batteries To A New D...\n",
       "45558  2014-12-07  Watch how to make music from a Tiny tesla coil...\n",
       "45559  2014-12-07  Great article by @markchediak on the downstrea...\n",
       "45560  2014-12-07  Tesla's CTO Wants To Take Batteries To A New D..."
      ]
     },
     "execution_count": 7,
     "metadata": {},
     "output_type": "execute_result"
    }
   ],
   "source": [
    "#read the csv file containing tweets about 'Tesla'\n",
    "tweets = pd.read_csv('../using_twint/tesla_tweets_3.csv', low_memory=False)\n",
    "tweets = tweets[['date','tweet']]#Collapse dataframe to only the variables we want\n",
    "tweets.tail(10)"
   ]
  },
  {
   "cell_type": "code",
   "execution_count": 37,
   "metadata": {},
   "outputs": [
    {
     "name": "stdout",
     "output_type": "stream",
     "text": [
      "Tesla shares spike after vote of confidence from Elon Musk $tsla  http://nyp.st/1Onk2Qd  via @nypost via @jamescovert1 \n",
      " Tesla shares spike after vote of confidence from Elon Musk $tsla via via\n",
      "Sentiment(polarity=0.0, subjectivity=0.0)\n"
     ]
    }
   ],
   "source": [
    "#get a particular tweet text\n",
    "some_tweet = tweets.iloc[4551]['tweet']\n",
    "print(some_tweet,\"\\n\", p.clean(some_tweet))\n",
    "\n",
    "#get the 'sentiment' of a particular tweet \n",
    "analysis = TextBlob(some_tweet)\n",
    "print(analysis.sentiment)"
   ]
  },
  {
   "cell_type": "code",
   "execution_count": 35,
   "metadata": {
    "scrolled": true
   },
   "outputs": [],
   "source": [
    "tweets['polarity'] = tweets['tweet'].apply(lambda x:TextBlob(x).polarity)#p.clean() removes links, emojis, hastags\n",
    "tweets['subjectivity'] = tweets['tweet'].apply(lambda x:TextBlob(x).subjectivity)\n",
    "tweets['tweet_clean'] = tweets['tweet'].apply(lambda x:p.clean(x))"
   ]
  },
  {
   "cell_type": "code",
   "execution_count": 36,
   "metadata": {},
   "outputs": [
    {
     "data": {
      "text/html": [
       "<div>\n",
       "<style scoped>\n",
       "    .dataframe tbody tr th:only-of-type {\n",
       "        vertical-align: middle;\n",
       "    }\n",
       "\n",
       "    .dataframe tbody tr th {\n",
       "        vertical-align: top;\n",
       "    }\n",
       "\n",
       "    .dataframe thead th {\n",
       "        text-align: right;\n",
       "    }\n",
       "</style>\n",
       "<table border=\"1\" class=\"dataframe\">\n",
       "  <thead>\n",
       "    <tr style=\"text-align: right;\">\n",
       "      <th></th>\n",
       "      <th>date</th>\n",
       "      <th>tweet</th>\n",
       "      <th>polarity</th>\n",
       "      <th>subjectivity</th>\n",
       "      <th>tweet_clean</th>\n",
       "    </tr>\n",
       "  </thead>\n",
       "  <tbody>\n",
       "    <tr>\n",
       "      <th>45551</th>\n",
       "      <td>2014-12-07</td>\n",
       "      <td>The Tesla Bet is on! @Lord_Kat &amp; I, first one ...</td>\n",
       "      <td>0.062500</td>\n",
       "      <td>0.354167</td>\n",
       "      <td>The Tesla Bet is on! &amp; I, first one to get the...</td>\n",
       "    </tr>\n",
       "    <tr>\n",
       "      <th>45552</th>\n",
       "      <td>2014-12-07</td>\n",
       "      <td>Uber's $40 billion value is bigger than (marke...</td>\n",
       "      <td>0.000000</td>\n",
       "      <td>0.250000</td>\n",
       "      <td>Uber's $40 billion value is bigger than (marke...</td>\n",
       "    </tr>\n",
       "    <tr>\n",
       "      <th>45553</th>\n",
       "      <td>2014-12-07</td>\n",
       "      <td>In two decades, there will be 1 billion more c...</td>\n",
       "      <td>0.500000</td>\n",
       "      <td>0.500000</td>\n",
       "      <td>In two decades, there will be billion more car...</td>\n",
       "    </tr>\n",
       "    <tr>\n",
       "      <th>45554</th>\n",
       "      <td>2014-12-07</td>\n",
       "      <td>Tesla's CTO Wants To Take Batteries To A New D...</td>\n",
       "      <td>0.168182</td>\n",
       "      <td>0.277273</td>\n",
       "      <td>Tesla's CTO Wants To Take Batteries To A New D...</td>\n",
       "    </tr>\n",
       "    <tr>\n",
       "      <th>45555</th>\n",
       "      <td>2014-12-07</td>\n",
       "      <td>#Tesla #Investors Are Ignoring What #ElonMusk ...</td>\n",
       "      <td>0.200000</td>\n",
       "      <td>0.200000</td>\n",
       "      <td>Are Ignoring What Really Said About BMW:</td>\n",
       "    </tr>\n",
       "    <tr>\n",
       "      <th>45556</th>\n",
       "      <td>2014-12-07</td>\n",
       "      <td>JB Straubel is charged with taking batteries t...</td>\n",
       "      <td>0.136364</td>\n",
       "      <td>0.454545</td>\n",
       "      <td>JB Straubel is charged with taking batteries t...</td>\n",
       "    </tr>\n",
       "    <tr>\n",
       "      <th>45557</th>\n",
       "      <td>2014-12-07</td>\n",
       "      <td>Tesla's CTO Wants To Take Batteries To A New D...</td>\n",
       "      <td>0.168182</td>\n",
       "      <td>0.277273</td>\n",
       "      <td>Tesla's CTO Wants To Take Batteries To A New D...</td>\n",
       "    </tr>\n",
       "    <tr>\n",
       "      <th>45558</th>\n",
       "      <td>2014-12-07</td>\n",
       "      <td>Watch how to make music from a Tiny tesla coil...</td>\n",
       "      <td>0.250000</td>\n",
       "      <td>0.450000</td>\n",
       "      <td>Watch how to make music from a Tiny tesla coil...</td>\n",
       "    </tr>\n",
       "    <tr>\n",
       "      <th>45559</th>\n",
       "      <td>2014-12-07</td>\n",
       "      <td>Great article by @markchediak on the downstrea...</td>\n",
       "      <td>0.800000</td>\n",
       "      <td>0.750000</td>\n",
       "      <td>Great article by on the downstream Gigafactory...</td>\n",
       "    </tr>\n",
       "    <tr>\n",
       "      <th>45560</th>\n",
       "      <td>2014-12-07</td>\n",
       "      <td>Tesla's CTO Wants To Take Batteries To A New D...</td>\n",
       "      <td>0.168182</td>\n",
       "      <td>0.277273</td>\n",
       "      <td>Tesla's CTO Wants To Take Batteries To A New D...</td>\n",
       "    </tr>\n",
       "  </tbody>\n",
       "</table>\n",
       "</div>"
      ],
      "text/plain": [
       "             date                                              tweet  \\\n",
       "45551  2014-12-07  The Tesla Bet is on! @Lord_Kat & I, first one ...   \n",
       "45552  2014-12-07  Uber's $40 billion value is bigger than (marke...   \n",
       "45553  2014-12-07  In two decades, there will be 1 billion more c...   \n",
       "45554  2014-12-07  Tesla's CTO Wants To Take Batteries To A New D...   \n",
       "45555  2014-12-07  #Tesla #Investors Are Ignoring What #ElonMusk ...   \n",
       "45556  2014-12-07  JB Straubel is charged with taking batteries t...   \n",
       "45557  2014-12-07  Tesla's CTO Wants To Take Batteries To A New D...   \n",
       "45558  2014-12-07  Watch how to make music from a Tiny tesla coil...   \n",
       "45559  2014-12-07  Great article by @markchediak on the downstrea...   \n",
       "45560  2014-12-07  Tesla's CTO Wants To Take Batteries To A New D...   \n",
       "\n",
       "       polarity  subjectivity  \\\n",
       "45551  0.062500      0.354167   \n",
       "45552  0.000000      0.250000   \n",
       "45553  0.500000      0.500000   \n",
       "45554  0.168182      0.277273   \n",
       "45555  0.200000      0.200000   \n",
       "45556  0.136364      0.454545   \n",
       "45557  0.168182      0.277273   \n",
       "45558  0.250000      0.450000   \n",
       "45559  0.800000      0.750000   \n",
       "45560  0.168182      0.277273   \n",
       "\n",
       "                                             tweet_clean  \n",
       "45551  The Tesla Bet is on! & I, first one to get the...  \n",
       "45552  Uber's $40 billion value is bigger than (marke...  \n",
       "45553  In two decades, there will be billion more car...  \n",
       "45554  Tesla's CTO Wants To Take Batteries To A New D...  \n",
       "45555           Are Ignoring What Really Said About BMW:  \n",
       "45556  JB Straubel is charged with taking batteries t...  \n",
       "45557  Tesla's CTO Wants To Take Batteries To A New D...  \n",
       "45558  Watch how to make music from a Tiny tesla coil...  \n",
       "45559  Great article by on the downstream Gigafactory...  \n",
       "45560  Tesla's CTO Wants To Take Batteries To A New D...  "
      ]
     },
     "execution_count": 36,
     "metadata": {},
     "output_type": "execute_result"
    }
   ],
   "source": [
    "tweets.tail(10)"
   ]
  },
  {
   "cell_type": "code",
   "execution_count": null,
   "metadata": {},
   "outputs": [],
   "source": [
    "#covert the date column to datetime type\n",
    "tweets.date = pd.to_datetime(tweets.date)\n",
    "#append weekofyear, weekday, year based on date, 0=Mon, 6=Sun\n",
    "tweets['weekofyear'] = tweets['date'].dt.weekofyear\n",
    "tweets['weekday'] = tweets['date'].dt.weekday\n",
    "tweets['year'] = tweets['date'].dt.year"
   ]
  },
  {
   "cell_type": "code",
   "execution_count": null,
   "metadata": {},
   "outputs": [],
   "source": [
    "columns = ['polarity', 'weekofyear']\n",
    "weekly_pol = tweets.loc[tweets['year'] == 2015, columns].groupby('weekofyear').mean()\n",
    "weekly_pol = weekly_pol[:-1]"
   ]
  },
  {
   "cell_type": "code",
   "execution_count": null,
   "metadata": {},
   "outputs": [],
   "source": [
    "#plot the weekly average sentiment for 2015\n",
    "pylab.rcParams['figure.figsize'] = (15, 9)\n",
    "plt.ylim(-0.25, 0.25)\n",
    "plt.plot(np.arange(0,52), weekly_pol['polarity'])"
   ]
  },
  {
   "cell_type": "code",
   "execution_count": null,
   "metadata": {},
   "outputs": [],
   "source": [
    "#get the weekly percent difference in the stock prices \n",
    "start = datetime.datetime(2015,1,1) # Beginning of period \n",
    "end = datetime.datetime(2016,1,1) # End of period \n",
    "stock = \"TSLA\" # some stock label we are interested in\n",
    "data = quandl.get(\"WIKI/\" + stock, start_date=start, end_date=end)\n",
    "pylab.rcParams['figure.figsize'] = (13, 7)\n",
    "plt.title(stock + \" Closing Prices\")\n",
    "plt.plot(data[\"Close\"],label=\"Daily closing price\") # plot daily closing prices \n",
    "plt.legend()\n",
    "plt.show()"
   ]
  },
  {
   "cell_type": "code",
   "execution_count": null,
   "metadata": {},
   "outputs": [],
   "source": [
    "#get the weekly percent difference in the stock price\n",
    "data[\"WeekPercDiff\"] = data[\"Close\"].diff(periods=5) / data[\"Close\"]\n",
    "plt.title(stock + \" Weekly Perent Difference\")\n",
    "plt.plot(data[\"WeekPercDiff\"],label=\"Weekly Percent Diff\") # plot daily closing prices \n",
    "plt.legend()\n",
    "plt.show()"
   ]
  },
  {
   "cell_type": "code",
   "execution_count": null,
   "metadata": {},
   "outputs": [],
   "source": [
    "data['weekofyear'] = data.index.weekofyear\n",
    "data['weekday'] = data.index.weekday\n",
    "data['year'] = data.index.year"
   ]
  },
  {
   "cell_type": "code",
   "execution_count": null,
   "metadata": {},
   "outputs": [],
   "source": [
    "#get price percent differences on fridays (weekday == 4)\n",
    "wed_stocks = data.loc[data['weekday'] == 2]\n",
    "wed_stocks.head()"
   ]
  },
  {
   "cell_type": "code",
   "execution_count": null,
   "metadata": {},
   "outputs": [],
   "source": [
    "#weekly_pol['polarity'].shape\n",
    "#wed_stocks[\"WeekPercDiff\"].shape\n",
    "plt.title(\"Polarity and Weekly Perent Price Differece\")\n",
    "plt.xlabel('Weekly Average Polarity')\n",
    "plt.ylabel('Weekly Price Difference')\n",
    "plt.scatter(weekly_pol['polarity'], wed_stocks[\"WeekPercDiff\"])\n",
    "plt.show()"
   ]
  },
  {
   "cell_type": "code",
   "execution_count": null,
   "metadata": {},
   "outputs": [],
   "source": [
    "plt.title(\"Distribution of Polarity\")\n",
    "plt.xlabel(\"Polarity\")\n",
    "#plt.hist(weekly_pol['polarity'])\n",
    "sns.distplot(weekly_pol['polarity'])\n",
    "plt.show()"
   ]
  },
  {
   "cell_type": "code",
   "execution_count": null,
   "metadata": {},
   "outputs": [],
   "source": [
    "plt.title(\"Distribution of Relative Price Differences\")\n",
    "plt.xlabel(\"Weekly Price Percent Diff\")\n",
    "#sns.distplot(wed_stocks[\"WeekPercDiff\"])\n",
    "plt.hist(wed_stocks[\"WeekPercDiff\"])"
   ]
  },
  {
   "cell_type": "code",
   "execution_count": null,
   "metadata": {},
   "outputs": [],
   "source": [
    "from sklearn.linear_model import LinearRegression\n",
    "weekly_pol['polarity']=weekly_pol['polarity'].values.reshape(-1,1) \n",
    "wed_stocks[\"WeekPercDiff\"] = wed_stocks[\"WeekPercDiff\"].values.reshape(-1,1) \n",
    "wed_stocks[\"WeekPercDiff\"] = wed_stocks[\"WeekPercDiff\"].fillna(0)\n",
    "lm = LinearRegression().fit( weekly_pol[['polarity']], wed_stocks[\"WeekPercDiff\"])\n"
   ]
  },
  {
   "cell_type": "code",
   "execution_count": null,
   "metadata": {},
   "outputs": [],
   "source": [
    "plt.title(\"Polarity and Weekly Perent Price Differece\")\n",
    "plt.xlabel('Weekly Average Polarity')\n",
    "plt.ylabel('Weekly Price Difference')\n",
    "plt.scatter(weekly_pol['polarity'], wed_stocks[\"WeekPercDiff\"])\n",
    "plt.plot( weekly_pol['polarity'], lm.predict(weekly_pol[['polarity']]), color='red', linewidth=2 )\n"
   ]
  },
  {
   "cell_type": "code",
   "execution_count": null,
   "metadata": {},
   "outputs": [],
   "source": [
    " from sklearn.model_selection import KFold\n",
    "model = LinearRegression()\n",
    "scores = []\n",
    "\n",
    "X = weekly_pol[['polarity']]\n",
    "y = wed_stocks[\"WeekPercDiff\"]\n",
    "\n",
    "kf = KFold(n_splits=2, shuffle=True, random_state=1)\n",
    "for train_index, test_index in kf.split(X):\n",
    "    X_train, X_test = X.iloc[train_index], X.iloc[test_index]\n",
    "    y_train, y_test = y.iloc[train_index], y.iloc[test_index]\n",
    "    model.fit(X_train, y_train)\n",
    "    score = model.score(X_test, y_test)\n",
    "    scores.append(score)\n",
    "\n",
    "scores"
   ]
  },
  {
   "cell_type": "code",
   "execution_count": null,
   "metadata": {},
   "outputs": [],
   "source": []
  },
  {
   "cell_type": "code",
   "execution_count": null,
   "metadata": {},
   "outputs": [],
   "source": []
  }
 ],
 "metadata": {
  "kernelspec": {
   "display_name": "Python 3",
   "language": "python",
   "name": "python3"
  },
  "language_info": {
   "codemirror_mode": {
    "name": "ipython",
    "version": 3
   },
   "file_extension": ".py",
   "mimetype": "text/x-python",
   "name": "python",
   "nbconvert_exporter": "python",
   "pygments_lexer": "ipython3",
   "version": "3.7.0"
  }
 },
 "nbformat": 4,
 "nbformat_minor": 2
}
