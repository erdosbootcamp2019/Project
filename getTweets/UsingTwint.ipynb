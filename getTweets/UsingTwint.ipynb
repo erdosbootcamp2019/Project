{
 "cells": [
  {
   "cell_type": "code",
   "execution_count": 1,
   "metadata": {},
   "outputs": [],
   "source": [
    "import twint"
   ]
  },
  {
   "cell_type": "code",
   "execution_count": 2,
   "metadata": {},
   "outputs": [
    {
     "ename": "RuntimeError",
     "evalue": "This event loop is already running",
     "output_type": "error",
     "traceback": [
      "\u001b[0;31m---------------------------------------------------------------------------\u001b[0m",
      "\u001b[0;31mRuntimeError\u001b[0m                              Traceback (most recent call last)",
      "\u001b[0;32m<ipython-input-2-31c5413607b0>\u001b[0m in \u001b[0;36m<module>\u001b[0;34m\u001b[0m\n\u001b[1;32m      5\u001b[0m \u001b[0mc\u001b[0m\u001b[0;34m.\u001b[0m\u001b[0mFormat\u001b[0m \u001b[0;34m=\u001b[0m \u001b[0;34m\"Tweet id: {id} | Tweet: {tweet}\"\u001b[0m\u001b[0;34m\u001b[0m\u001b[0;34m\u001b[0m\u001b[0m\n\u001b[1;32m      6\u001b[0m \u001b[0;31m# Run\u001b[0m\u001b[0;34m\u001b[0m\u001b[0;34m\u001b[0m\u001b[0;34m\u001b[0m\u001b[0m\n\u001b[0;32m----> 7\u001b[0;31m \u001b[0mtwint\u001b[0m\u001b[0;34m.\u001b[0m\u001b[0mrun\u001b[0m\u001b[0;34m.\u001b[0m\u001b[0mSearch\u001b[0m\u001b[0;34m(\u001b[0m\u001b[0mc\u001b[0m\u001b[0;34m)\u001b[0m\u001b[0;34m\u001b[0m\u001b[0;34m\u001b[0m\u001b[0m\n\u001b[0m",
      "\u001b[0;32m~/Desktop/ErdosBootCamp/Project/src/twint/twint/run.py\u001b[0m in \u001b[0;36mSearch\u001b[0;34m(config, callback)\u001b[0m\n\u001b[1;32m    277\u001b[0m     \u001b[0mconfig\u001b[0m\u001b[0;34m.\u001b[0m\u001b[0mProfile\u001b[0m \u001b[0;34m=\u001b[0m \u001b[0;32mFalse\u001b[0m\u001b[0;34m\u001b[0m\u001b[0;34m\u001b[0m\u001b[0m\n\u001b[1;32m    278\u001b[0m     \u001b[0mconfig\u001b[0m\u001b[0;34m.\u001b[0m\u001b[0mProfile_full\u001b[0m \u001b[0;34m=\u001b[0m \u001b[0;32mFalse\u001b[0m\u001b[0;34m\u001b[0m\u001b[0;34m\u001b[0m\u001b[0m\n\u001b[0;32m--> 279\u001b[0;31m     \u001b[0mrun\u001b[0m\u001b[0;34m(\u001b[0m\u001b[0mconfig\u001b[0m\u001b[0;34m,\u001b[0m \u001b[0mcallback\u001b[0m\u001b[0;34m)\u001b[0m\u001b[0;34m\u001b[0m\u001b[0;34m\u001b[0m\u001b[0m\n\u001b[0m\u001b[1;32m    280\u001b[0m     \u001b[0;32mif\u001b[0m \u001b[0mconfig\u001b[0m\u001b[0;34m.\u001b[0m\u001b[0mPandas_au\u001b[0m\u001b[0;34m:\u001b[0m\u001b[0;34m\u001b[0m\u001b[0;34m\u001b[0m\u001b[0m\n\u001b[1;32m    281\u001b[0m         \u001b[0mstorage\u001b[0m\u001b[0;34m.\u001b[0m\u001b[0mpanda\u001b[0m\u001b[0;34m.\u001b[0m\u001b[0m_autoget\u001b[0m\u001b[0;34m(\u001b[0m\u001b[0;34m\"tweet\"\u001b[0m\u001b[0;34m)\u001b[0m\u001b[0;34m\u001b[0m\u001b[0;34m\u001b[0m\u001b[0m\n",
      "\u001b[0;32m~/Desktop/ErdosBootCamp/Project/src/twint/twint/run.py\u001b[0m in \u001b[0;36mrun\u001b[0;34m(config, callback)\u001b[0m\n\u001b[1;32m    198\u001b[0m \u001b[0;32mdef\u001b[0m \u001b[0mrun\u001b[0m\u001b[0;34m(\u001b[0m\u001b[0mconfig\u001b[0m\u001b[0;34m,\u001b[0m \u001b[0mcallback\u001b[0m\u001b[0;34m=\u001b[0m\u001b[0;32mNone\u001b[0m\u001b[0;34m)\u001b[0m\u001b[0;34m:\u001b[0m\u001b[0;34m\u001b[0m\u001b[0;34m\u001b[0m\u001b[0m\n\u001b[1;32m    199\u001b[0m     \u001b[0mlogme\u001b[0m\u001b[0;34m.\u001b[0m\u001b[0mdebug\u001b[0m\u001b[0;34m(\u001b[0m\u001b[0m__name__\u001b[0m\u001b[0;34m+\u001b[0m\u001b[0;34m':run'\u001b[0m\u001b[0;34m)\u001b[0m\u001b[0;34m\u001b[0m\u001b[0;34m\u001b[0m\u001b[0m\n\u001b[0;32m--> 200\u001b[0;31m     \u001b[0mget_event_loop\u001b[0m\u001b[0;34m(\u001b[0m\u001b[0;34m)\u001b[0m\u001b[0;34m.\u001b[0m\u001b[0mrun_until_complete\u001b[0m\u001b[0;34m(\u001b[0m\u001b[0mTwint\u001b[0m\u001b[0;34m(\u001b[0m\u001b[0mconfig\u001b[0m\u001b[0;34m)\u001b[0m\u001b[0;34m.\u001b[0m\u001b[0mmain\u001b[0m\u001b[0;34m(\u001b[0m\u001b[0mcallback\u001b[0m\u001b[0;34m)\u001b[0m\u001b[0;34m)\u001b[0m\u001b[0;34m\u001b[0m\u001b[0;34m\u001b[0m\u001b[0m\n\u001b[0m\u001b[1;32m    201\u001b[0m \u001b[0;34m\u001b[0m\u001b[0m\n\u001b[1;32m    202\u001b[0m \u001b[0;32mdef\u001b[0m \u001b[0mFavorites\u001b[0m\u001b[0;34m(\u001b[0m\u001b[0mconfig\u001b[0m\u001b[0;34m)\u001b[0m\u001b[0;34m:\u001b[0m\u001b[0;34m\u001b[0m\u001b[0;34m\u001b[0m\u001b[0m\n",
      "\u001b[0;32m~/miniconda3/lib/python3.6/asyncio/base_events.py\u001b[0m in \u001b[0;36mrun_until_complete\u001b[0;34m(self, future)\u001b[0m\n\u001b[1;32m    469\u001b[0m         \u001b[0mfuture\u001b[0m\u001b[0;34m.\u001b[0m\u001b[0madd_done_callback\u001b[0m\u001b[0;34m(\u001b[0m\u001b[0m_run_until_complete_cb\u001b[0m\u001b[0;34m)\u001b[0m\u001b[0;34m\u001b[0m\u001b[0;34m\u001b[0m\u001b[0m\n\u001b[1;32m    470\u001b[0m         \u001b[0;32mtry\u001b[0m\u001b[0;34m:\u001b[0m\u001b[0;34m\u001b[0m\u001b[0;34m\u001b[0m\u001b[0m\n\u001b[0;32m--> 471\u001b[0;31m             \u001b[0mself\u001b[0m\u001b[0;34m.\u001b[0m\u001b[0mrun_forever\u001b[0m\u001b[0;34m(\u001b[0m\u001b[0;34m)\u001b[0m\u001b[0;34m\u001b[0m\u001b[0;34m\u001b[0m\u001b[0m\n\u001b[0m\u001b[1;32m    472\u001b[0m         \u001b[0;32mexcept\u001b[0m\u001b[0;34m:\u001b[0m\u001b[0;34m\u001b[0m\u001b[0;34m\u001b[0m\u001b[0m\n\u001b[1;32m    473\u001b[0m             \u001b[0;32mif\u001b[0m \u001b[0mnew_task\u001b[0m \u001b[0;32mand\u001b[0m \u001b[0mfuture\u001b[0m\u001b[0;34m.\u001b[0m\u001b[0mdone\u001b[0m\u001b[0;34m(\u001b[0m\u001b[0;34m)\u001b[0m \u001b[0;32mand\u001b[0m \u001b[0;32mnot\u001b[0m \u001b[0mfuture\u001b[0m\u001b[0;34m.\u001b[0m\u001b[0mcancelled\u001b[0m\u001b[0;34m(\u001b[0m\u001b[0;34m)\u001b[0m\u001b[0;34m:\u001b[0m\u001b[0;34m\u001b[0m\u001b[0;34m\u001b[0m\u001b[0m\n",
      "\u001b[0;32m~/miniconda3/lib/python3.6/asyncio/base_events.py\u001b[0m in \u001b[0;36mrun_forever\u001b[0;34m(self)\u001b[0m\n\u001b[1;32m    423\u001b[0m         \u001b[0mself\u001b[0m\u001b[0;34m.\u001b[0m\u001b[0m_check_closed\u001b[0m\u001b[0;34m(\u001b[0m\u001b[0;34m)\u001b[0m\u001b[0;34m\u001b[0m\u001b[0;34m\u001b[0m\u001b[0m\n\u001b[1;32m    424\u001b[0m         \u001b[0;32mif\u001b[0m \u001b[0mself\u001b[0m\u001b[0;34m.\u001b[0m\u001b[0mis_running\u001b[0m\u001b[0;34m(\u001b[0m\u001b[0;34m)\u001b[0m\u001b[0;34m:\u001b[0m\u001b[0;34m\u001b[0m\u001b[0;34m\u001b[0m\u001b[0m\n\u001b[0;32m--> 425\u001b[0;31m             \u001b[0;32mraise\u001b[0m \u001b[0mRuntimeError\u001b[0m\u001b[0;34m(\u001b[0m\u001b[0;34m'This event loop is already running'\u001b[0m\u001b[0;34m)\u001b[0m\u001b[0;34m\u001b[0m\u001b[0;34m\u001b[0m\u001b[0m\n\u001b[0m\u001b[1;32m    426\u001b[0m         \u001b[0;32mif\u001b[0m \u001b[0mevents\u001b[0m\u001b[0;34m.\u001b[0m\u001b[0m_get_running_loop\u001b[0m\u001b[0;34m(\u001b[0m\u001b[0;34m)\u001b[0m \u001b[0;32mis\u001b[0m \u001b[0;32mnot\u001b[0m \u001b[0;32mNone\u001b[0m\u001b[0;34m:\u001b[0m\u001b[0;34m\u001b[0m\u001b[0;34m\u001b[0m\u001b[0m\n\u001b[1;32m    427\u001b[0m             raise RuntimeError(\n",
      "\u001b[0;31mRuntimeError\u001b[0m: This event loop is already running"
     ]
    },
    {
     "name": "stdout",
     "output_type": "stream",
     "text": [
      "Tweet id: 1131227130786926592 | Tweet: #OSINT  pic.twitter.com/DFCr8aXYh4\n",
      "Tweet id: 1131115507845931008 | Tweet: #OSINT  https://twitter.com/JCyberSec_/status/1130793084957134848 …\n",
      "Tweet id: 1129780588393771008 | Tweet: We often hear about the resiliency of the Darknet, I'd like to remember that Telegram groups have a strong resiliency as well. In this case we see that, before getting banned, the group had ~15.5K members. After only 6 days, it already reached ~10.7K members  #OSINT  pic.twitter.com/RK4MrmPrxd\n",
      "Tweet id: 1129014412264792064 | Tweet: Merged Fix UserAgent, the server is unreachable. Please repull and then pip3 install -r requirements.txt. Let's go back to play now!  https://github.com/twintproject/twint/pull/427 … #OSINT #twint #twintproject\n",
      "Tweet id: 1128674559052386304 | Tweet: #OSINT is like playing with LEGOs, everyone can start with the same pieces, what differs is how you compose them\n",
      "Tweet id: 1127569642069868544 | Tweet: Tracking shared referral links with Google Dorks turns out that not only #DeepDotWeb and #DarkWebNews were making money  #OSINT #darknet pic.twitter.com/WlVNJcq2dy\n",
      "Tweet id: 1125753581083217921 | Tweet: Free phone number lookup without login  https://sync_me/search/?number=n&g=1  Where \"n\" is the national prefix and the phone number, like \"391234567890\"  #OSINT  pic.twitter.com/Wjs4R02Rl8\n",
      "Tweet id: 1125298171440259072 | Tweet: Given the number of blog posts that I'm seeing about Twint, I should write a different one  I see a lot of blog posts about Twint as scraper, but not about Twint as an #OSINT tool  Still glad though  https://twitter.com/secou/status/1124980622496358401 …\n",
      "Tweet id: 1125137900297957376 | Tweet: #OSINT  https://twitter.com/f3d__/status/1125133025858158593 …\n",
      "Tweet id: 1122226652933758976 | Tweet: Is there a way to know if an email address is PEC (email certified)? #OSINT\n",
      "Tweet id: 1122146821130866688 | Tweet: What do we have here? An user spams in (at least) a specific group, got the links that match a pattern, extracted the domain and done a 'Reverse IP' @viewdns to see other domains shared in the same server.  What if I could match the registrant of every domain to that user? #OSINT  pic.twitter.com/kO0Cft0vWn\n",
      "Tweet id: 1120633635395207168 | Tweet:  https://github.com/twintproject/twint/issues/400 … Breaking update for Twint, compatibility with Elasticsearch 7.0.0 #OSINT\n",
      "Tweet id: 1120075689955397632 | Tweet: Added a couple of new searches: - generic links; - extract domain, given the link extract the domain (useful to weight the popularity of a domain)  And added an awesome reverse search. Given the link/email/etc, extract the users that shared it and in which groups #OSINT  pic.twitter.com/4IsLnDumU4\n",
      "Tweet id: 1119862479918632962 | Tweet: Look at \"data-donation-email\" #OSINT  https://twitter.com/dave_daves/status/1119257464585752576 …\n",
      "Tweet id: 1119516724804689920 | Tweet: Released new features for my G.O.G.E. project, now you can save your graph anytime and upload it later. Another important update is about the queries, now them are more specific and return only expected results  Plus some restyling  #OSINT  pic.twitter.com/L4kDxV3dyS\n",
      "Tweet id: 1116694188052103168 | Tweet: What is the impact of the #GDPR in the #OSINT world (EU)? Can individual search, collect and store public available data? (forum posts, IRC chats, and so on). I found various articles but those are too technical (for me) or don't satisfy me\n",
      "Tweet id: 1115623508392984576 | Tweet: Search on Social Networks for \"Just finished a Runtastic\". Runtastic does not allow you to see the map on the track, but Twitter gives you a nice preview. Otherwise you can just create an account. #OSINT #privacy pic.twitter.com/oXu4ls6rVN\n",
      "Tweet id: 1115622554146938886 | Tweet: Search on Social Networks for \"Check out my activity on Garmin Connect\" #OSINT #privacy pic.twitter.com/tLSGXEYsLs\n",
      "Tweet id: 1114600471925264384 | Tweet:  https://goge.pielco11.ovh/  Access to sensitive areas is restricted for obvious reasons. If you are not a random JohnDoe123 feel free to make a request. #OSINT  pic.twitter.com/qzovrPpMfI\n",
      "Tweet id: 1113486080303620096 | Tweet: Place an IP and see if a torrent has been downloaded  https://iknowwhatyoudownload.com/en/peer/  #OSINT  pic.twitter.com/Zn23KWAW2D\n",
      "Tweet id: 1113119506858209287 | Tweet: A Python module to bypass Cloudflare's anti-bot page.  https://github.com/Anorov/cloudflare-scrape … #OSINT  Thanks to \"Gonzo\" from  http://osint.team \n",
      "Tweet id: 1111693622381105154 | Tweet: X axis for the users' id Y axis the count of the group which they are admin  This helps you to identify even \"hidden\" networks, the ones that are not publicly sponsored. #OSINT  Share your thoughts  pic.twitter.com/8SUW7IEqNF\n",
      "Tweet id: 1111595861128200192 | Tweet: The Twint Project has a new place for help and suggestions. Feel free to join the #OSINT community at  http://osint.team ! #twint #twintproject  (there is a specific channel for Twint)\n",
      "Tweet id: 1108727840600670208 | Tweet: So I started playing around a while, saw this guy sharing a couple if links that point to IG and a phone number. Prepare popcorns, this is going to be an #OSINT thread. 🍿🍿  pic.twitter.com/hmKfDuibH5\n",
      "Tweet id: 1108690109455585280 | Tweet: Feel free to correct me if I'm wrong or if I'm missing something, thanks.  #OSINT\n",
      "Tweet id: 1108653425531719681 | Tweet: .@ph055a can't connect to  http://osint.team  🤔, is it up and running? #OSINT\n",
      "Tweet id: 1108000604184592389 | Tweet: #OSINT  https://twitter.com/campuscodi/status/1107995134413541377 …\n",
      "Tweet id: 1106596488635912193 | Tweet: #OSINT from the community for the community, check it out!  https://twitter.com/OsintCurious/status/1106533997281202176 …\n",
      "Tweet id: 1106594910407409664 | Tweet: #OSINT  https://twitter.com/BadassBowden/status/1106522188331577345 …\n",
      "Tweet id: 1105107331610804224 | Tweet: #OSINT  https://twitter.com/nodejs/status/1105106609812983808 …\n",
      "Tweet id: 1102925560169287687 | Tweet: Who said that hunting scammers on Telegram is hard? #OSINT  pic.twitter.com/ZyjkFomwsB\n",
      "Tweet id: 1101071761142108161 | Tweet: \"Validate email addresses, phone numbers, VAT numbers and domain names\"  https://cloudmersive.com/validate-api  #OSINT #infosec #pentest\n",
      "Tweet id: 1097146271326965761 | Tweet: ⚡️ “Twint Project” @twintproject #twint #OSINT  https://twitter.com/i/moments/1097143716886839298 …\n",
      "Tweet id: 1097141798710005760 | Tweet: Working on new visualizations for Twint @twintproject #twint #OSINT #twintproject  The size of the dots is the number of likes pic.twitter.com/arDcqrJdwB\n",
      "Tweet id: 1092322671101120513 | Tweet: #OSINT  https://twitter.com/securityaffairs/status/1092305477688537088 …\n",
      "Tweet id: 1092135176581378049 | Tweet: Dorking search engines to explore publicly accessible Dropbox folders site: http://dropbox.com  + \"/sh/\" #OSINT @hackermaderas pic.twitter.com/TqBdXYUJzH\n",
      "Tweet id: 1092001174289551360 | Tweet: Added two transforms to extract links from tweets of a specific user and reverse search to get the tweet with that url. Useful for #FakeNews @twintproject  https://github.com/twintproject/twint-maltego-plugin … #OSINT #twint #twintproject pic.twitter.com/i8UsZM8up7\n",
      "Tweet id: 1091823659079987200 | Tweet: Want to scrape every domain inside a page? Here a working #regex: /[a-zA-Z0-9]{1,63}\\.[a-zA-Z0-9]{2,63}/ #OSINT\n",
      "Tweet id: 1090226967767629825 | Tweet: Should I share something like this? #OSINT 1) No! 2) Absolutely not, WTF!  pic.twitter.com/k9zfKxMdfL\n",
      "Tweet id: 1085647310762065920 | Tweet: \"How to not make a sock-puppet\" pt. 1 #OSINT  pic.twitter.com/2r6u03HMms\n",
      "Tweet id: 1084515500300951552 | Tweet: Well, idk. #osint #databreach pic.twitter.com/GZWDuFEFOJ\n",
      "Tweet id: 1084478669408612353 | Tweet:  https://anvaka.github.io/sayit  - Graph of related subreddits by @anvaka #osint #reddit pic.twitter.com/Kr8jjlt7jb\n",
      "Tweet id: 1084165157952077824 | Tweet: To everyone interested in the Twint Project, start following @TWINTio. Me and @cody_zacharias will release updates and stuff via that account #OSINT #twint #twintproject\n",
      "Tweet id: 1082706607480455168 | Tweet: LeakLooker - Find open databases with Shodan by @PoszerzHoryzont #OSINT @shodanhq  https://github.com/woj-ciech/LeakLooker … pic.twitter.com/1K4aCm6Yi5\n",
      "Tweet id: 1082674560795901953 | Tweet: Here you go!  https://github.com/twintproject/twint-maltego-plugin … #OSINT #twintproject @hpiedcoq\n",
      "Tweet id: 1079338119563018242 | Tweet: What about a Maltego transform for #twint ? #OSINT 👀  pic.twitter.com/qNIWQHADY4\n",
      "Tweet id: 1072918126415765506 | Tweet: Did you miss Pastebin black-friday discount? Get Pastebin Pro Christmas Special, 60% off  https://pastebin.com/pro?coupon=santa60 … #pastebin #OSINT\n",
      "Tweet id: 1072876908315066368 | Tweet: #OSINT #ItalianArms https://twitter.com/reportrai3/status/1072862875360747527 …\n",
      "Tweet id: 1070381617703739394 | Tweet: Twint Desktop App released (beta)   https://pielco11.ovh/posts/twint-desktop-beta/ … #OSINT  pic.twitter.com/T89RXZUTfA\n",
      "Tweet id: 1068121763744235520 | Tweet: #OSINT #databreach https://twitter.com/lorenzostella/status/1067786186729627649 …\n",
      "Tweet id: 1067022375848476672 | Tweet:  https://medicaldevices.icij.org  #OSINT #ImplantFiles, thanks to @ICIJorg\n",
      "Tweet id: 1065347978309849089 | Tweet: #OSINT  https://twitter.com/OsintStash/status/1065301734686420993 …\n",
      "Tweet id: 1064963924506873859 | Tweet: #osint #Infosec https://twitter.com/shodanhq/status/1064956985089638405 …\n",
      "Tweet id: 1064799739567321088 | Tweet: What would you buy on #BlackFriday for #OSINT and #privacy ? I suggest @ProtonMail @ProtonVPN @pastebin and @shodanhq #BlackFridayWeek\n",
      "Tweet id: 1064254209305059329 | Tweet: #osint  https://twitter.com/hackermaderas/status/1063679396941312000 …\n",
      "Tweet id: 1063457934804508672 | Tweet: TWINT UPDATE: Twint[.]py disappeared, what now? Here everything that you need to know! #osint #twint please RT and let us know what You think https://github.com/twintproject/twint/issues/295 …\n",
      "Tweet id: 1063143858576523264 | Tweet: #OSINT [ITA] (by Me)  https://twitter.com/FscGalileo/status/1063143179933880322 …\n"
     ]
    },
    {
     "name": "stdout",
     "output_type": "stream",
     "text": [
      "Tweet id: 1058067365936746496 | Tweet: #TWINT #OSINT stay scraping, stay tuned  pic.twitter.com/SjPkEi6GlY\n",
      "Tweet id: 1056110098253336576 | Tweet: MAGAbomber tweets  https://github.com/pielco11/MAGAbomber_twitter_dump … #MAGABomber #MAGABomberHoax #OSINT @RochelleRitchie @josephfcox @ph055a @dutch_osintguy @jakecreps @jms_dot_py\n",
      "Tweet id: 1035953459001024512 | Tweet: Darknet Osint Graph Explorer #Darknet #OSINT #DeepWeb  https://github.com/pielco11/DOGE  pic.twitter.com/EuuC4LiuOI\n",
      "Tweet id: 1030593528592838656 | Tweet:  https://www.researchgate.net/publication/262581640_OSINT_A_Grey_Zone … #OSINT #privacy #security\n",
      "Tweet id: 1030494709741965312 | Tweet: But why!? #OSINT #privacy #oopssec pic.twitter.com/MBq40iHaPO\n",
      "Tweet id: 1029079760641712128 | Tweet: #OSINT  https://twitter.com/forensico/status/1029016299920404482 …\n",
      "Tweet id: 1028747658637205504 | Tweet: A great resource of articles about #OSINT by @jms_dot_py  https://register.automatingosint.com/ \n",
      "Tweet id: 1027848988593152000 | Tweet: #OSINT, never so easy  pic.twitter.com/HaMsuZdcpF\n",
      "Tweet id: 900655766956388353 | Tweet: @OnionScan @SarahJamieLewis OnionScan Maltego Transform ready @  https://github.com/pielco11/OSMT  try it out and let me now! ;) #OSINT #DeepWeb\n",
      "Tweet id: 899730770796916736 | Tweet: @OnionScan @SarahJamieLewis @Paterva Maltego Transform for Onionscan, I'll create a git repo in the next days. #tor #OSINT  pic.twitter.com/DeXDUn31xp\n",
      "Tweet id: 850615734149537792 | Tweet: Working for a transform (Maltego) for @OnionScan @SarahJamieLewis #privacy #OSINT\n"
     ]
    }
   ],
   "source": [
    "# Configure\n",
    "c = twint.Config()\n",
    "c.Username = \"noneprivacy\"\n",
    "c.Search = \"#osint\"\n",
    "c.Format = \"Tweet id: {id} | Tweet: {tweet}\"\n",
    "# Run\n",
    "twint.run.Search(c)"
   ]
  },
  {
   "cell_type": "code",
   "execution_count": null,
   "metadata": {},
   "outputs": [],
   "source": []
  }
 ],
 "metadata": {
  "kernelspec": {
   "display_name": "Python 3",
   "language": "python",
   "name": "python3"
  },
  "language_info": {
   "codemirror_mode": {
    "name": "ipython",
    "version": 3
   },
   "file_extension": ".py",
   "mimetype": "text/x-python",
   "name": "python",
   "nbconvert_exporter": "python",
   "pygments_lexer": "ipython3",
   "version": "3.6.8"
  }
 },
 "nbformat": 4,
 "nbformat_minor": 2
}
