{
 "cells": [
  {
   "cell_type": "markdown",
   "metadata": {},
   "source": [
    "# Commented script to get stocks data"
   ]
  },
  {
   "cell_type": "code",
   "execution_count": 18,
   "metadata": {},
   "outputs": [
    {
     "name": "stdout",
     "output_type": "stream",
     "text": [
      "Populating the interactive namespace from numpy and matplotlib\n"
     ]
    }
   ],
   "source": [
    "import pandas as pd\n",
    "import quandl #quandl is not installed by default. You'll need to install it and get an account.\n",
    "import datetime \n",
    "import matplotlib.pyplot as plt\n",
    "import seaborn as sns\n",
    "sns.set()\n",
    "%matplotlib inline\n",
    "%pylab inline\n",
    "quandl.ApiConfig.api_key = \"cHs3hSC-ys83Msb8qXyh\"#This is Jorge's key, get yourself a new one."
   ]
  },
  {
   "cell_type": "markdown",
   "metadata": {},
   "source": [
    "<font color='blue'> It seems that the free data is only supported until 2018, so we need to check that</font>\n"
   ]
  },
  {
   "cell_type": "code",
   "execution_count": 19,
   "metadata": {},
   "outputs": [],
   "source": [
    "start = datetime.datetime(2015,1,1) # Beginning of period \n",
    "end = datetime.datetime(2019,1,1) # End of period "
   ]
  },
  {
   "cell_type": "code",
   "execution_count": null,
   "metadata": {},
   "outputs": [],
   "source": [
    "#You'll need to register on quandl.com to get a free account, otherwise you can only make up to 50 calls per day\n",
    "stock = \"TSLA\" # some stock label we are interested in\n",
    "data = quandl.get(\"WIKI/\" + stock, start_date=start, end_date=end) #download data with quandl\n",
    "data[\"30d\"] = np.round(data[\"Close\"].rolling(window = 30, center = False).mean(), 2) # 20 day moving average \n",
    "#apple"
   ]
  },
  {
   "cell_type": "code",
   "execution_count": null,
   "metadata": {
    "scrolled": false
   },
   "outputs": [],
   "source": [
    "from pylab import *\n",
    "\n",
    "pylab.rcParams['figure.figsize'] = (15, 9)\n",
    "plt.title(stock + \" Closing Prices\")\n",
    "plt.plot(data[\"Close\"],label=\"Daily closing price\") # plot daily closing prices \n",
    "plt.plot(data[\"30d\"], label=\"30 day avg\") # plot 20 day rolling average \n",
    "plt.legend()\n",
    "plt.show()"
   ]
  },
  {
   "cell_type": "code",
   "execution_count": null,
   "metadata": {},
   "outputs": [],
   "source": []
  },
  {
   "cell_type": "code",
   "execution_count": null,
   "metadata": {},
   "outputs": [],
   "source": []
  },
  {
   "cell_type": "code",
   "execution_count": null,
   "metadata": {},
   "outputs": [],
   "source": []
  }
 ],
 "metadata": {
  "kernelspec": {
   "display_name": "Python 3",
   "language": "python",
   "name": "python3"
  },
  "language_info": {
   "codemirror_mode": {
    "name": "ipython",
    "version": 3
   },
   "file_extension": ".py",
   "mimetype": "text/x-python",
   "name": "python",
   "nbconvert_exporter": "python",
   "pygments_lexer": "ipython3",
   "version": "3.7.0"
  }
 },
 "nbformat": 4,
 "nbformat_minor": 2
}
