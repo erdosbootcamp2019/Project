{
 "cells": [
  {
   "cell_type": "markdown",
   "metadata": {},
   "source": [
    "# Commented script to get stocks data"
   ]
  },
  {
   "cell_type": "code",
   "execution_count": 1,
   "metadata": {},
   "outputs": [
    {
     "name": "stdout",
     "output_type": "stream",
     "text": [
      "Populating the interactive namespace from numpy and matplotlib\n"
     ]
    }
   ],
   "source": [
    "import pandas as pd\n",
    "import quandl #quandl is not installed by default. You'll need to install it and get an account.\n",
    "import datetime \n",
    "import matplotlib.pyplot as plt\n",
    "import seaborn as sns\n",
    "sns.set()\n",
    "%matplotlib inline\n",
    "%pylab inline\n",
    "quandl.ApiConfig.api_key = \"cHs3hSC-ys83Msb8qXyh\"#This is Jorge's key, get yourself a new one."
   ]
  },
  {
   "cell_type": "markdown",
   "metadata": {},
   "source": [
    "<font color='blue'> It seems that the free data is only supported until 2018, so we need to check that</font>\n"
   ]
  },
  {
   "cell_type": "code",
   "execution_count": null,
   "metadata": {},
   "outputs": [],
   "source": []
  },
  {
   "cell_type": "markdown",
   "metadata": {},
   "source": [
    "Commented the below and saved the data to a csv to avoid making too many calls"
   ]
  },
  {
   "cell_type": "code",
   "execution_count": 10,
   "metadata": {},
   "outputs": [],
   "source": [
    "stock = \"TSLA\" # some stock label we are interested in\n",
    "# #You'll need to register on quandl.com to get a free account, otherwise you can only make up to 50 calls per day\n",
    "## get the stock data with quandl\n",
    "# start = datetime.datetime(2015,1,1) # Beginning of period \n",
    "# end = datetime.datetime(2019,1,1) # End of period \n",
    "# data = quandl.get(\"WIKI/\" + stock, start_date=start, end_date=end) #download data with quandl\n",
    "# data.to_csv('TSLA.csv')"
   ]
  },
  {
   "cell_type": "markdown",
   "metadata": {},
   "source": [
    "Read the data TSLA.csv"
   ]
  },
  {
   "cell_type": "code",
   "execution_count": 3,
   "metadata": {},
   "outputs": [
    {
     "data": {
      "text/html": [
       "<div>\n",
       "<style scoped>\n",
       "    .dataframe tbody tr th:only-of-type {\n",
       "        vertical-align: middle;\n",
       "    }\n",
       "\n",
       "    .dataframe tbody tr th {\n",
       "        vertical-align: top;\n",
       "    }\n",
       "\n",
       "    .dataframe thead th {\n",
       "        text-align: right;\n",
       "    }\n",
       "</style>\n",
       "<table border=\"1\" class=\"dataframe\">\n",
       "  <thead>\n",
       "    <tr style=\"text-align: right;\">\n",
       "      <th></th>\n",
       "      <th>Date</th>\n",
       "      <th>Open</th>\n",
       "      <th>High</th>\n",
       "      <th>Low</th>\n",
       "      <th>Close</th>\n",
       "      <th>Volume</th>\n",
       "      <th>Ex-Dividend</th>\n",
       "      <th>Split Ratio</th>\n",
       "      <th>Adj. Open</th>\n",
       "      <th>Adj. High</th>\n",
       "      <th>Adj. Low</th>\n",
       "      <th>Adj. Close</th>\n",
       "      <th>Adj. Volume</th>\n",
       "    </tr>\n",
       "  </thead>\n",
       "  <tbody>\n",
       "    <tr>\n",
       "      <th>0</th>\n",
       "      <td>2015-01-02</td>\n",
       "      <td>222.87</td>\n",
       "      <td>223.2500</td>\n",
       "      <td>213.2600</td>\n",
       "      <td>219.310</td>\n",
       "      <td>4764443.0</td>\n",
       "      <td>0.0</td>\n",
       "      <td>1.0</td>\n",
       "      <td>222.87</td>\n",
       "      <td>223.2500</td>\n",
       "      <td>213.2600</td>\n",
       "      <td>219.310</td>\n",
       "      <td>4764443.0</td>\n",
       "    </tr>\n",
       "    <tr>\n",
       "      <th>1</th>\n",
       "      <td>2015-01-05</td>\n",
       "      <td>214.55</td>\n",
       "      <td>216.5000</td>\n",
       "      <td>207.1626</td>\n",
       "      <td>210.090</td>\n",
       "      <td>5368477.0</td>\n",
       "      <td>0.0</td>\n",
       "      <td>1.0</td>\n",
       "      <td>214.55</td>\n",
       "      <td>216.5000</td>\n",
       "      <td>207.1626</td>\n",
       "      <td>210.090</td>\n",
       "      <td>5368477.0</td>\n",
       "    </tr>\n",
       "    <tr>\n",
       "      <th>2</th>\n",
       "      <td>2015-01-06</td>\n",
       "      <td>210.06</td>\n",
       "      <td>214.2000</td>\n",
       "      <td>204.2100</td>\n",
       "      <td>211.280</td>\n",
       "      <td>6261936.0</td>\n",
       "      <td>0.0</td>\n",
       "      <td>1.0</td>\n",
       "      <td>210.06</td>\n",
       "      <td>214.2000</td>\n",
       "      <td>204.2100</td>\n",
       "      <td>211.280</td>\n",
       "      <td>6261936.0</td>\n",
       "    </tr>\n",
       "    <tr>\n",
       "      <th>3</th>\n",
       "      <td>2015-01-07</td>\n",
       "      <td>213.35</td>\n",
       "      <td>214.7800</td>\n",
       "      <td>209.7800</td>\n",
       "      <td>210.950</td>\n",
       "      <td>2968390.0</td>\n",
       "      <td>0.0</td>\n",
       "      <td>1.0</td>\n",
       "      <td>213.35</td>\n",
       "      <td>214.7800</td>\n",
       "      <td>209.7800</td>\n",
       "      <td>210.950</td>\n",
       "      <td>2968390.0</td>\n",
       "    </tr>\n",
       "    <tr>\n",
       "      <th>4</th>\n",
       "      <td>2015-01-08</td>\n",
       "      <td>212.81</td>\n",
       "      <td>213.7999</td>\n",
       "      <td>210.0100</td>\n",
       "      <td>210.615</td>\n",
       "      <td>3442509.0</td>\n",
       "      <td>0.0</td>\n",
       "      <td>1.0</td>\n",
       "      <td>212.81</td>\n",
       "      <td>213.7999</td>\n",
       "      <td>210.0100</td>\n",
       "      <td>210.615</td>\n",
       "      <td>3442509.0</td>\n",
       "    </tr>\n",
       "  </tbody>\n",
       "</table>\n",
       "</div>"
      ],
      "text/plain": [
       "         Date    Open      High       Low    Close     Volume  Ex-Dividend  \\\n",
       "0  2015-01-02  222.87  223.2500  213.2600  219.310  4764443.0          0.0   \n",
       "1  2015-01-05  214.55  216.5000  207.1626  210.090  5368477.0          0.0   \n",
       "2  2015-01-06  210.06  214.2000  204.2100  211.280  6261936.0          0.0   \n",
       "3  2015-01-07  213.35  214.7800  209.7800  210.950  2968390.0          0.0   \n",
       "4  2015-01-08  212.81  213.7999  210.0100  210.615  3442509.0          0.0   \n",
       "\n",
       "   Split Ratio  Adj. Open  Adj. High  Adj. Low  Adj. Close  Adj. Volume  \n",
       "0          1.0     222.87   223.2500  213.2600     219.310    4764443.0  \n",
       "1          1.0     214.55   216.5000  207.1626     210.090    5368477.0  \n",
       "2          1.0     210.06   214.2000  204.2100     211.280    6261936.0  \n",
       "3          1.0     213.35   214.7800  209.7800     210.950    2968390.0  \n",
       "4          1.0     212.81   213.7999  210.0100     210.615    3442509.0  "
      ]
     },
     "execution_count": 3,
     "metadata": {},
     "output_type": "execute_result"
    }
   ],
   "source": [
    "data = pd.read_csv('TSLA.csv')\n",
    "data.head()"
   ]
  },
  {
   "cell_type": "code",
   "execution_count": 4,
   "metadata": {
    "scrolled": false
   },
   "outputs": [
    {
     "data": {
      "text/html": [
       "<div>\n",
       "<style scoped>\n",
       "    .dataframe tbody tr th:only-of-type {\n",
       "        vertical-align: middle;\n",
       "    }\n",
       "\n",
       "    .dataframe tbody tr th {\n",
       "        vertical-align: top;\n",
       "    }\n",
       "\n",
       "    .dataframe thead th {\n",
       "        text-align: right;\n",
       "    }\n",
       "</style>\n",
       "<table border=\"1\" class=\"dataframe\">\n",
       "  <thead>\n",
       "    <tr style=\"text-align: right;\">\n",
       "      <th></th>\n",
       "      <th>Date</th>\n",
       "      <th>Open</th>\n",
       "      <th>High</th>\n",
       "      <th>Low</th>\n",
       "      <th>Close</th>\n",
       "      <th>Volume</th>\n",
       "      <th>Ex-Dividend</th>\n",
       "      <th>Split Ratio</th>\n",
       "      <th>Adj. Open</th>\n",
       "      <th>Adj. High</th>\n",
       "      <th>Adj. Low</th>\n",
       "      <th>Adj. Close</th>\n",
       "      <th>Adj. Volume</th>\n",
       "    </tr>\n",
       "  </thead>\n",
       "  <tbody>\n",
       "    <tr>\n",
       "      <th>808</th>\n",
       "      <td>2018-03-21</td>\n",
       "      <td>310.25</td>\n",
       "      <td>322.44</td>\n",
       "      <td>310.19</td>\n",
       "      <td>316.53</td>\n",
       "      <td>5927881.0</td>\n",
       "      <td>0.0</td>\n",
       "      <td>1.0</td>\n",
       "      <td>310.25</td>\n",
       "      <td>322.44</td>\n",
       "      <td>310.19</td>\n",
       "      <td>316.53</td>\n",
       "      <td>5927881.0</td>\n",
       "    </tr>\n",
       "    <tr>\n",
       "      <th>809</th>\n",
       "      <td>2018-03-22</td>\n",
       "      <td>313.89</td>\n",
       "      <td>318.82</td>\n",
       "      <td>308.18</td>\n",
       "      <td>309.10</td>\n",
       "      <td>4914307.0</td>\n",
       "      <td>0.0</td>\n",
       "      <td>1.0</td>\n",
       "      <td>313.89</td>\n",
       "      <td>318.82</td>\n",
       "      <td>308.18</td>\n",
       "      <td>309.10</td>\n",
       "      <td>4914307.0</td>\n",
       "    </tr>\n",
       "    <tr>\n",
       "      <th>810</th>\n",
       "      <td>2018-03-23</td>\n",
       "      <td>311.25</td>\n",
       "      <td>311.61</td>\n",
       "      <td>300.45</td>\n",
       "      <td>301.54</td>\n",
       "      <td>6600538.0</td>\n",
       "      <td>0.0</td>\n",
       "      <td>1.0</td>\n",
       "      <td>311.25</td>\n",
       "      <td>311.61</td>\n",
       "      <td>300.45</td>\n",
       "      <td>301.54</td>\n",
       "      <td>6600538.0</td>\n",
       "    </tr>\n",
       "    <tr>\n",
       "      <th>811</th>\n",
       "      <td>2018-03-26</td>\n",
       "      <td>307.34</td>\n",
       "      <td>307.59</td>\n",
       "      <td>291.36</td>\n",
       "      <td>304.18</td>\n",
       "      <td>8324639.0</td>\n",
       "      <td>0.0</td>\n",
       "      <td>1.0</td>\n",
       "      <td>307.34</td>\n",
       "      <td>307.59</td>\n",
       "      <td>291.36</td>\n",
       "      <td>304.18</td>\n",
       "      <td>8324639.0</td>\n",
       "    </tr>\n",
       "    <tr>\n",
       "      <th>812</th>\n",
       "      <td>2018-03-27</td>\n",
       "      <td>304.00</td>\n",
       "      <td>304.27</td>\n",
       "      <td>277.18</td>\n",
       "      <td>279.18</td>\n",
       "      <td>13696168.0</td>\n",
       "      <td>0.0</td>\n",
       "      <td>1.0</td>\n",
       "      <td>304.00</td>\n",
       "      <td>304.27</td>\n",
       "      <td>277.18</td>\n",
       "      <td>279.18</td>\n",
       "      <td>13696168.0</td>\n",
       "    </tr>\n",
       "  </tbody>\n",
       "</table>\n",
       "</div>"
      ],
      "text/plain": [
       "           Date    Open    High     Low   Close      Volume  Ex-Dividend  \\\n",
       "808  2018-03-21  310.25  322.44  310.19  316.53   5927881.0          0.0   \n",
       "809  2018-03-22  313.89  318.82  308.18  309.10   4914307.0          0.0   \n",
       "810  2018-03-23  311.25  311.61  300.45  301.54   6600538.0          0.0   \n",
       "811  2018-03-26  307.34  307.59  291.36  304.18   8324639.0          0.0   \n",
       "812  2018-03-27  304.00  304.27  277.18  279.18  13696168.0          0.0   \n",
       "\n",
       "     Split Ratio  Adj. Open  Adj. High  Adj. Low  Adj. Close  Adj. Volume  \n",
       "808          1.0     310.25     322.44    310.19      316.53    5927881.0  \n",
       "809          1.0     313.89     318.82    308.18      309.10    4914307.0  \n",
       "810          1.0     311.25     311.61    300.45      301.54    6600538.0  \n",
       "811          1.0     307.34     307.59    291.36      304.18    8324639.0  \n",
       "812          1.0     304.00     304.27    277.18      279.18   13696168.0  "
      ]
     },
     "execution_count": 4,
     "metadata": {},
     "output_type": "execute_result"
    }
   ],
   "source": [
    "data.tail()"
   ]
  },
  {
   "cell_type": "markdown",
   "metadata": {},
   "source": [
    "convert 'Date' to datetime for the ease of manipulation"
   ]
  },
  {
   "cell_type": "code",
   "execution_count": 5,
   "metadata": {},
   "outputs": [
    {
     "name": "stdout",
     "output_type": "stream",
     "text": [
      "<class 'str'>\n",
      "<class 'pandas._libs.tslibs.timestamps.Timestamp'>\n"
     ]
    }
   ],
   "source": [
    "print(type(data['Date'][0]))\n",
    "data['Date'] = pd.to_datetime(data['Date'])\n",
    "print(type(data['Date'][0]))"
   ]
  },
  {
   "cell_type": "markdown",
   "metadata": {},
   "source": [
    "Plot the 20-day moving average of TSLA"
   ]
  },
  {
   "cell_type": "code",
   "execution_count": 12,
   "metadata": {},
   "outputs": [
    {
     "data": {
      "image/png": "[encoded data removed]",
      "text/plain": [
       "<Figure size 1080x648 with 1 Axes>"
      ]
     },
     "metadata": {
      "needs_background": "light"
     },
     "output_type": "display_data"
    }
   ],
   "source": [
    "from pylab import *\n",
    "\n",
    "pylab.rcParams['figure.figsize'] = (15, 9)\n",
    "plt.title(stock + \" Closing Prices\")\n",
    "plt.plot(data[\"Close\"],label=\"Daily closing price\") # plot daily closing prices \n",
    "plt.plot(data[\"20d\"], label=\"20 day avg\") # plot 20 day rolling average \n",
    "plt.legend()\n",
    "plt.show()"
   ]
  },
  {
   "cell_type": "code",
   "execution_count": 17,
   "metadata": {},
   "outputs": [
    {
     "name": "stdout",
     "output_type": "stream",
     "text": [
      "2015-01-02 00:00:00 \n",
      " 2018-03-27 00:00:00\n"
     ]
    }
   ],
   "source": [
    "print(data.Date.min(), '\\n',data.Date.max())"
   ]
  },
  {
   "cell_type": "code",
   "execution_count": 50,
   "metadata": {},
   "outputs": [
    {
     "name": "stdout",
     "output_type": "stream",
     "text": [
      "year=2017, week of year = 2, the 4-day relarive difference of stock TSLA is [0.00270778] \n"
     ]
    }
   ],
   "source": [
    "#few-day relative changes in a week\n",
    "#append weekofyear, weekday, year based on date, 0=Mon, 6=Sun\n",
    "data['weekofyear'] = data['Date'].dt.weekofyear\n",
    "data['weekday'] = data['Date'].dt.weekday\n",
    "data['year'] = data['Date'].dt.year\n",
    "\n",
    "\n",
    "\"\"\"parameters start\"\"\"\n",
    "year_indx = 2017; #what year\n",
    "weekofyear_indx = 2; #what week of the year\n",
    "weekday_diff = 4; #how many days of changes we are interested in, 1<=day_diff<= 4\n",
    "\"\"\"parameters end\"\"\"\n",
    "\n",
    "data_weekly = data.loc[(data.year ==year_indx) & (data.weekofyear == weekofyear_indx)] #the \n",
    "\n",
    "week_start = data_weekly['weekday'] == data_weekly['weekday'].min()\n",
    "week_end = data_weekly['weekday'] == data_weekly['weekday'].max()\n",
    "\n",
    "#handle the errors when there are holidays in a week. \n",
    "#In that case we take the maximum possible value for weekday_diff of taht week.\n",
    "num_of_days_in_this_week  = data_weekly['weekday'].max() - data_weekly['weekday'].min()+1\n",
    "if  num_of_days_in_this_week-1 >= day_diff:\n",
    "    week_projected = data_weekly['weekday'] == (data_weekly['weekday'].min() + day_diff) \n",
    "else:\n",
    "    print('There are only {} days in this week. We return the {} day diff instead'.format(\n",
    "    num_of_days_in_this_week, weekday_diff))\n",
    "    week_projected = data_weekly['weekday'] == data_weekly['weekday'].max() \n",
    "\n",
    "\n",
    "week_difference =  data_weekly[week_projected].Close.values - data_weekly[week_start].Open.values\n",
    "week_rel_difference = week_difference / data_weekly[week_start].Open.values\n",
    "print('year={}, week of year = {}, the {}-day relarive difference of stock {} is {} '.format(\n",
    "    year_indx,weekofyear_indx, weekday_diff, stock, week_rel_difference)  )\n",
    "\n",
    "# columns = ['polarity', 'weekofyear']\n",
    "# tweets.loc[tweets['year'] == 2017, columns].groupby('weekofyear').mean()"
   ]
  },
  {
   "cell_type": "code",
   "execution_count": 43,
   "metadata": {},
   "outputs": [
    {
     "data": {
      "text/plain": [
       "array([0.06585684])"
      ]
     },
     "execution_count": 43,
     "metadata": {},
     "output_type": "execute_result"
    }
   ],
   "source": [
    "week_difference\n",
    "week_rel_difference"
   ]
  },
  {
   "cell_type": "code",
   "execution_count": null,
   "metadata": {},
   "outputs": [],
   "source": []
  }
 ],
 "metadata": {
  "kernelspec": {
   "display_name": "Python 3",
   "language": "python",
   "name": "python3"
  },
  "language_info": {
   "codemirror_mode": {
    "name": "ipython",
    "version": 3
   },
   "file_extension": ".py",
   "mimetype": "text/x-python",
   "name": "python",
   "nbconvert_exporter": "python",
   "pygments_lexer": "ipython3",
   "version": "3.6.8"
  }
 },
 "nbformat": 4,
 "nbformat_minor": 2
}
